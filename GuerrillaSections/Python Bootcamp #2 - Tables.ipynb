{
 "cells": [
  {
   "cell_type": "markdown",
   "metadata": {},
   "source": [
    "# Tables and Table Manipulation"
   ]
  },
  {
   "cell_type": "markdown",
   "metadata": {},
   "source": [
    "Welcome to guerrilla section number two! This section will be primarily focused on building and manipulating tables, which we use to organize data. This is an essential skill to all aspects of data science, so we encourage you to have a good grasp of the material! \n",
    "\n",
    "This notebook will provide examples and extra practice for manipulating tables. Some of this will be review for you (especially if you attended the first guerrilla section), but this notebook will include plenty of material not in the last section including sort, group, pivot, and join. \n",
    "\n",
    "Please ask us if you have any questions. Let's get started!"
   ]
  },
  {
   "cell_type": "code",
   "execution_count": null,
   "metadata": {
    "collapsed": true
   },
   "outputs": [],
   "source": [
    "#Run this cell\n",
    "from datascience import *\n",
    "import numpy as np\n",
    "import matplotlib.pyplot as plt"
   ]
  },
  {
   "cell_type": "markdown",
   "metadata": {},
   "source": [
    "<h3> Table of Contents </h3>\n",
    "\n",
    "* **<a href=\"#basics\">Basics</a>**\n",
    "    * <a href=\"#make_t\">Making Tables</a>\n",
    "    * <a href=\"#fxns\">Basic Table Functions</a>\n",
    "    * <a href=\"#cols\">Accessing Columns</a>\n",
    "    * <a href=\"#rows\">Accessing Rows</a>\n",
    "* **<a href=\"#manip\">Manipulation</a>** \n",
    "    * <a href=\"#sort\">Sort</a>\n",
    "    * <a href=\"#where\">Where</a>\n",
    "    * <a href=\"#group\">Group</a>\n",
    "    * <a href=\"#join\">Join</a>\n",
    "    * <a href=\"#pivot\">Pivot</a>\n",
    "* **<a href=\"#ex\">Exercises</a>**\n",
    "    * <a href=\"#ex1\">Part 1</a> \n",
    "    * <a href=\"#ex2\">Part 2</a>"
   ]
  },
  {
   "cell_type": "markdown",
   "metadata": {},
   "source": [
    "All the functions we'll cover today are in the Datascience library (imported above), and luckily, we have access to the documentation! You can find look for a comprehensive list of table manipulations in the 'Resources' tab of the course website as well as more specific documentation on http://data8.org/datascience/ . We encourage you to look through them!"
   ]
  },
  {
   "cell_type": "markdown",
   "metadata": {},
   "source": [
    "<a id=\"basics\"></a>\n",
    "# Basics"
   ]
  },
  {
   "cell_type": "markdown",
   "metadata": {},
   "source": [
    "Tables are an important tool in data science that allow us to organize and visualize data. They can be understood as a sequence of labeled columns where the labels are strings and the columns are arrays of the same length. (Repeated for emphasis: same length!)"
   ]
  },
  {
   "cell_type": "markdown",
   "metadata": {},
   "source": [
    "<a id=\"make_t\"></a>\n",
    "**Making Tables**\n",
    "\n",
    "The Table() function of the Datascience library will be the tool used in this class for constructing new tables. Run the cell below!"
   ]
  },
  {
   "cell_type": "code",
   "execution_count": null,
   "metadata": {
    "collapsed": false
   },
   "outputs": [],
   "source": [
    "Table()"
   ]
  },
  {
   "cell_type": "markdown",
   "metadata": {},
   "source": [
    "You'll notice you have an empty table (no output). Tables are useful because they can be extended to include any number of columns as well as rows, which we will do now!\n",
    "\n",
    "Make a table with the Table() function. Add *one* column with the function with_column, which should take two arguments: a string, which contains the name of the column, and an array of the elements of that column. "
   ]
  },
  {
   "cell_type": "code",
   "execution_count": null,
   "metadata": {
    "collapsed": false,
    "scrolled": true
   },
   "outputs": [],
   "source": [
    "drinks = Table().with_column('Name', ['Water', 'Fiji Water', 'Juice']) #add one column\n",
    "drinks"
   ]
  },
  {
   "cell_type": "markdown",
   "metadata": {},
   "source": [
    "Add multiple columns with with_columns, which can take more than 2 arguments. Arguments to with_columns should alternate between the names of columns and the elements of the corresponding columns, all separated by commas. Each column should contain the same number of elements."
   ]
  },
  {
   "cell_type": "code",
   "execution_count": null,
   "metadata": {
    "collapsed": false
   },
   "outputs": [],
   "source": [
    "drinks2 = drinks.with_columns('Price', [2, 10, 3],\n",
    "                             'Worth it?', ['Sure', 'No', 'Maybe']) #add more columns\n",
    "drinks2"
   ]
  },
  {
   "cell_type": "markdown",
   "metadata": {},
   "source": [
    "<a id=\"fxns\"></a>\n",
    "**Basic Table Functions** \n",
    "\n",
    "Now that we have a table, what can we learn about it? There are a few functions that give us some cursory knowledge about the characteristics of our table.\n",
    "\n",
    "Let's begin with the size of our table: we can find the number of rows by calling .num_rows - be aware that .num_rows is not followed by parentheses!\n"
   ]
  },
  {
   "cell_type": "code",
   "execution_count": null,
   "metadata": {
    "collapsed": false
   },
   "outputs": [],
   "source": [
    "drinks2.num_rows"
   ]
  },
  {
   "cell_type": "markdown",
   "metadata": {},
   "source": [
    "Similarly, how many columns are there? We can use .num_columns like so:"
   ]
  },
  {
   "cell_type": "code",
   "execution_count": null,
   "metadata": {
    "collapsed": false
   },
   "outputs": [],
   "source": [
    "drinks2.num_columns"
   ]
  },
  {
   "cell_type": "markdown",
   "metadata": {},
   "source": [
    "One more! We can find out all the column labels using .labels"
   ]
  },
  {
   "cell_type": "code",
   "execution_count": null,
   "metadata": {
    "collapsed": false,
    "scrolled": true
   },
   "outputs": [],
   "source": [
    "drinks2.labels"
   ]
  },
  {
   "cell_type": "markdown",
   "metadata": {},
   "source": [
    "Is 'Worth it?' too long of a label? Let's rename it using .relabeled, which takes in two arguments: the original column label followed by the new label you want. "
   ]
  },
  {
   "cell_type": "code",
   "execution_count": null,
   "metadata": {
    "collapsed": false
   },
   "outputs": [],
   "source": [
    "drinks2.relabeled('Worth it?', 'Worth')"
   ]
  },
  {
   "cell_type": "markdown",
   "metadata": {},
   "source": [
    "<a id=\"cols\"></a>\n",
    "**Accessing Columns**\n",
    "\n",
    "Now that we have briefly covered different ways we can filter through rows of table to show us what we want it to, the natural next question is - how can we access and investigate the values in the column? What calculations can we perform using this column?\n",
    "\n",
    "These are great questions, and knowing the answers to them forms a fundamental basis to data science. Again, we have a great function .column that will be extremely useful in terms of accessing columns and manipulating them.\n",
    "\n",
    "Suppose we want to conduct an analysis on the drinks industry as a whole. A natural question is, \"What is the average price of the drinks?\" How would be do this? First, we need to access the values in the column."
   ]
  },
  {
   "cell_type": "code",
   "execution_count": null,
   "metadata": {
    "collapsed": false
   },
   "outputs": [],
   "source": [
    "drinks2.column('Price')"
   ]
  },
  {
   "cell_type": "markdown",
   "metadata": {},
   "source": [
    "Then, because the column is returned to us as an array of values, we can operate on it:"
   ]
  },
  {
   "cell_type": "code",
   "execution_count": null,
   "metadata": {
    "collapsed": false
   },
   "outputs": [],
   "source": [
    "np.mean(drinks2.column('Price'))"
   ]
  },
  {
   "cell_type": "markdown",
   "metadata": {},
   "source": [
    "This is an extremely, extremely important fact: calling .column on a table returns an **array**! This has two major implications: 1) trying to call table functions on it will error and 2) we can perform array arthimetic! Wooo!\n",
    "\n",
    "Suppose we wanted to find the price of the most expensive drink in the drinks industry. We can use column manipulations to inform us of this value."
   ]
  },
  {
   "cell_type": "code",
   "execution_count": null,
   "metadata": {
    "collapsed": false
   },
   "outputs": [],
   "source": [
    "max(drinks2.column('Price'))"
   ]
  },
  {
   "cell_type": "markdown",
   "metadata": {},
   "source": [
    "Above, we accessed the column by using its name. Remember that we can also access columns by using their indeces! Don't forget that indeces start at 0."
   ]
  },
  {
   "cell_type": "code",
   "execution_count": null,
   "metadata": {
    "collapsed": false,
    "scrolled": true
   },
   "outputs": [],
   "source": [
    "max(drinks2.column(1))"
   ]
  },
  {
   "cell_type": "markdown",
   "metadata": {},
   "source": [
    "Remember that you can also access a certain value from a column by using the .item function!"
   ]
  },
  {
   "cell_type": "code",
   "execution_count": null,
   "metadata": {
    "collapsed": false
   },
   "outputs": [],
   "source": [
    "drinks2.column(1).item(0)"
   ]
  },
  {
   "cell_type": "markdown",
   "metadata": {},
   "source": [
    "Again, there are a whole bunch of things that can be done to arrays. You will find that most of the things you will be doing to them is from the numpy library! We encourage you to look up these libraries and read the documentation to further understand what they do. You will learn a great deal from Google!\n",
    "\n",
    "But what if we don't want an array, and we want a table? That's what the .select() method is for! It takes in one or more column labels or indeces.\n",
    "\n",
    "Let's get a table consisting of just the first two columns using labels and then indeces:"
   ]
  },
  {
   "cell_type": "code",
   "execution_count": null,
   "metadata": {
    "collapsed": false
   },
   "outputs": [],
   "source": [
    "drinks2.select('Name','Price')"
   ]
  },
  {
   "cell_type": "code",
   "execution_count": null,
   "metadata": {
    "collapsed": false
   },
   "outputs": [],
   "source": [
    "drinks2.select(0,1)"
   ]
  },
  {
   "cell_type": "markdown",
   "metadata": {},
   "source": [
    "Another way to access only specific columns in a table is to use .drop(), which also returns a table. Let's drop the 'Worth' column! "
   ]
  },
  {
   "cell_type": "code",
   "execution_count": null,
   "metadata": {
    "collapsed": false
   },
   "outputs": [],
   "source": [
    "drinks2.drop(2)"
   ]
  },
  {
   "cell_type": "markdown",
   "metadata": {},
   "source": [
    "It's important to note that .select() and .drop do not change our original table. If we want the changed table, we need to assign it to a new variable. (In fact, none of the methods we'll cover change our original table! Keep this in mind :))"
   ]
  },
  {
   "cell_type": "code",
   "execution_count": null,
   "metadata": {
    "collapsed": false
   },
   "outputs": [],
   "source": [
    "drinks3 = drinks2.drop(2) #same line of code as above\n",
    "drinks3"
   ]
  },
  {
   "cell_type": "code",
   "execution_count": null,
   "metadata": {
    "collapsed": false
   },
   "outputs": [],
   "source": [
    "drinks2 #Hasn't changed!"
   ]
  },
  {
   "cell_type": "markdown",
   "metadata": {},
   "source": [
    "<a id=\"rows\"></a>\n",
    "**Accessing Rows**"
   ]
  },
  {
   "cell_type": "markdown",
   "metadata": {},
   "source": [
    "Great, columns! But suppose we wanted several rows of the table. We already have seen the table, and we know we want access to only the first row. Luckily, we have a function .take() that takes in a row index and returns a table with just that row. "
   ]
  },
  {
   "cell_type": "code",
   "execution_count": null,
   "metadata": {
    "collapsed": false
   },
   "outputs": [],
   "source": [
    "drinks2.take(0)"
   ]
  },
  {
   "cell_type": "markdown",
   "metadata": {},
   "source": [
    "What if you want to return the first two rows in the table? We can use np.arange() to select a range of consecutive rows. Don't forget that np.arange() excludes the last element! Here's how we get the first two rows:"
   ]
  },
  {
   "cell_type": "code",
   "execution_count": null,
   "metadata": {
    "collapsed": false
   },
   "outputs": [],
   "source": [
    "drinks2.take[np.arange(2)]"
   ]
  },
  {
   "cell_type": "markdown",
   "metadata": {},
   "source": [
    "What if we only wanted only row 0 and row 2? One way we could do this is by using make_array() to create an array of all the indices we want: "
   ]
  },
  {
   "cell_type": "code",
   "execution_count": null,
   "metadata": {
    "collapsed": false,
    "scrolled": true
   },
   "outputs": [],
   "source": [
    "drinks2.take(make_array(0, 2))"
   ]
  },
  {
   "cell_type": "markdown",
   "metadata": {},
   "source": [
    "It is extremely important to keep track of the data type that you have access to at each point in time. Remember that the column function **always** returns an array, while the select and take functions **always** return a table! Keeping track of what type of data you have at each point will become extremely important as you perform more complicated table manipulations."
   ]
  },
  {
   "cell_type": "markdown",
   "metadata": {},
   "source": [
    "<a id=\"manip\"></a>\n",
    "# Table Manipulation"
   ]
  },
  {
   "cell_type": "markdown",
   "metadata": {},
   "source": [
    "Let's dive in deeper! What more can we learn from our data? Part of the beauty of computing is encompassed in our ability to quickly and efficiently manipulate tables and their values. \n",
    "\n",
    "We highly encourage you to gain a comprehensive understanding of the functions presented in the following section, as they are important in almost any table manipulation you choose to perform. Lets get started!"
   ]
  },
  {
   "cell_type": "markdown",
   "metadata": {},
   "source": [
    "<a id=\"sort\"></a>\n",
    "**Sort**\n",
    "\n",
    "An extremely important tool in data science is the ability to sort the values. This has powerful applications - by ordering our values, we can not only find the largest/smallest values but also find patterns. Are there associations between one variable and another after one is sorted? \n",
    "\n",
    "Suppose we have a table containing the most popular food places at Berkeley, their most popular items, and the price of their most popular items. Run the cell below to load the table!"
   ]
  },
  {
   "cell_type": "code",
   "execution_count": null,
   "metadata": {
    "collapsed": false
   },
   "outputs": [],
   "source": [
    "#Run this cell\n",
    "names = make_array('FSM', 'FIFO @ Haas', 'Pat Browns', 'GBC', 'Tea One @ Cory', 'Micro Yalis', 'Top Dog', 'Thai Basil', 'Sheng Kee Bakery', 'Subway', 'Chipotle', 'Eatsa')\n",
    "items = make_array('Coffee', 'Sandwich', 'Panini', 'Coffee', 'Coffee', 'Coffee', 'Hot Dog', 'Pad Thai', 'Boba', 'Sandwich', 'Bowl', 'Bowl')\n",
    "prices = make_array(3.50, 7.00, 8.50, 3.25, 3.50, 3.75, 3.50, 8.50, 2.50, 8.75, 9.00, 10.00)\n",
    "food = Table().with_columns('Food at Berkeley', names,\n",
    "                    'Most Popular Item', items,\n",
    "                    'Price of MPI', prices)\n",
    "food"
   ]
  },
  {
   "cell_type": "markdown",
   "metadata": {},
   "source": [
    "Suppose the first thing we want to do is find the most expensive popular item in Berkeley. Logically, we could do this by sorting the table by the column \"Price of MPI\", and then extracting the first row! Remember to include descending=True when sorting from greatest to least."
   ]
  },
  {
   "cell_type": "code",
   "execution_count": null,
   "metadata": {
    "collapsed": false
   },
   "outputs": [],
   "source": [
    "food.sort('Price of MPI', descending=True).take(0)"
   ]
  },
  {
   "cell_type": "markdown",
   "metadata": {},
   "source": [
    "However, say we wanted to write a single line of code that returns the name of the item that is the most expensive item in the table: instead of a table, we want just the name itself as a string. We would do that by sorting the table, then extracting the column containing the name of the most popular item, then taking the first element in that array."
   ]
  },
  {
   "cell_type": "code",
   "execution_count": null,
   "metadata": {
    "collapsed": false
   },
   "outputs": [],
   "source": [
    "food.sort('Price of MPI', descending=True).column('Most Popular Item').item(0)"
   ]
  },
  {
   "cell_type": "markdown",
   "metadata": {},
   "source": [
    "As said before, it is extremely important to remember which data type each function returns. When you call .sort on a table, remember that it returns a table! That means that in order to access a specific array from the table, you have to call .column on it, which returns an array. Only then can we extract the value of what we are looking from from an array."
   ]
  },
  {
   "cell_type": "markdown",
   "metadata": {},
   "source": [
    "<a id=\"where\"></a>\n",
    "<b> Where </b>"
   ]
  },
  {
   "cell_type": "markdown",
   "metadata": {},
   "source": [
    "Suppose you want to filter your dataset, and return only certain rows that fulfill a condition. You can use the function where() to do this-- it returns a new table containing only those rows that fulfill your predicate function. The function where() takes in a column name, and then a predicate which determines how the rows will be filtered. For example, predicates such as are.between(y, z) will filter out rows that don't have column values in between y and z.\n"
   ]
  },
  {
   "cell_type": "markdown",
   "metadata": {},
   "source": [
    "Here is a list of all the predicates you can use to filter through data:\n",
    "<ul>\n",
    "    are.above(y) <br>\n",
    "    are.above_or_equal_to(y) <br>\n",
    "    are.below(y) <br>\n",
    "    are.below_or_equal_to(y) <br>\n",
    "    are.between(y, z) <br>\n",
    "    are.between_or_equal_to(y, z) <br>\n",
    "    are.contained_in(superstring) <br>\n",
    "    are.containing(substring) <br>\n",
    "    are.equal_to(y) <br>\n",
    "    are.not_above(y) <br>\n",
    "    are.not_above_or_equal_to(y) <br>\n",
    "    are.not_below(y) <br>\n",
    "    are.not_below_or_equal_to(y) <br>\n",
    "    are.not_between(y, z) <br>\n",
    "    are.not_between_or_equal_to(y, z) <br>\n",
    "    are.not_contained_in(superstring) <br>\n",
    "    are.not_containing(substring) <br>\n",
    "    are.not_equal_to(y) <br>\n",
    "    are.not_strictly_between(y, z) <br>\n",
    "    are.strictly_between(y, z) <i> #strictly-between means non-inclusive of y and z </i><br>\n",
    "</ul>\n",
    "\n"
   ]
  },
  {
   "cell_type": "markdown",
   "metadata": {},
   "source": [
    "Let's start with a simple example of .where(). Suppose we know that a certain restaurant served pad thai, but we just can't recall its name. We could manipulate the table to only show us the row(s) where the \"Most Popular Item\" column is equal to \"Pad Thai\".\n"
   ]
  },
  {
   "cell_type": "code",
   "execution_count": null,
   "metadata": {
    "collapsed": false
   },
   "outputs": [],
   "source": [
    "food.where(\"Most Popular Item\", are.equal_to(\"Pad Thai\"))"
   ]
  },
  {
   "cell_type": "markdown",
   "metadata": {},
   "source": [
    "We can also filter on top of a filtered table by using .where() twice: suppose we want to find all the restaurants in Berkeley that specialize in coffee priced below or equal to $3.50."
   ]
  },
  {
   "cell_type": "code",
   "execution_count": null,
   "metadata": {
    "collapsed": false
   },
   "outputs": [],
   "source": [
    "food.where(\"Most Popular Item\", are.equal_to(\"Coffee\")).where(\"Price of MPI\", are.below_or_equal_to(3.5))"
   ]
  },
  {
   "cell_type": "markdown",
   "metadata": {},
   "source": [
    "What if we want to find the names of all restaurants at Berkeley whose most popular items are drinks? We can use are.contained_in(), which takes in a list or array!"
   ]
  },
  {
   "cell_type": "code",
   "execution_count": null,
   "metadata": {
    "collapsed": false
   },
   "outputs": [],
   "source": [
    "drinks = [\"Coffee\", \"Boba\"] #a list, but make_array works as well!\n",
    "food.where(\"Most Popular Item\", are.contained_in(drinks))"
   ]
  },
  {
   "cell_type": "markdown",
   "metadata": {},
   "source": [
    "# STOP!\n",
    "### At this point, let's do some exercises. Follow this link to go to Part 1, where we'll begin exploring a dataset about survivors of the Titanic.  <a href=\"#ex1\">[Exercises Part 1]</a> "
   ]
  },
  {
   "cell_type": "markdown",
   "metadata": {},
   "source": [
    "# Table Manipulation Continued\n",
    "\n",
    "<a id=\"group\"></a>\n",
    "**Group**\n",
    "\n",
    "Another important table manipulation that you have recently learned is .group. This does what it suggests - it groups the table into the unique categories of the column that you give it, and returns a two column table - a column with the original values of the table as well as a column with the counts of each element. This is far easier to visualize than to explain, so lets see it in action!\n",
    "\n",
    "Suppose we wanted to see how many restaurants have the same most popular item. This would be a perfect time to use group!"
   ]
  },
  {
   "cell_type": "code",
   "execution_count": null,
   "metadata": {
    "collapsed": false
   },
   "outputs": [],
   "source": [
    "food.group('Most Popular Item')"
   ]
  },
  {
   "cell_type": "markdown",
   "metadata": {},
   "source": [
    "Take a moment to absorb this. It takes each unique most popular item, and counts the number of times it shows up. Be sure to sit on this until you fully understand this - it can become confusing. \n",
    "\n",
    "Now, suppose we wanted to return the item that shows up as the most popular item the most in our table. We could use group, which we just learned, along with the previous sort function in order to find this! We will first group by the \"Most Popular Item\" column, and then sort it by the count. Then, we will extract the column with the name of the item by calling the column and the first item."
   ]
  },
  {
   "cell_type": "code",
   "execution_count": null,
   "metadata": {
    "collapsed": false
   },
   "outputs": [],
   "source": [
    "food.group('Most Popular Item').sort('count', descending = True).column('Most Popular Item').item(0)"
   ]
  },
  {
   "cell_type": "markdown",
   "metadata": {},
   "source": [
    "Now, suppose we wanted to group by a certain column, but we didn't want our table to return just the number of times the element in the column showed up. Instead, we wanted to test all the values in a certain group, and find out something about those numbers. Again, this is easier to visualize than to explain, so let's jump in!\n",
    "\n",
    "Suppose we wanted to find an interesting statistic. For each most popular item in the table, what is the average price of that item? \n",
    "\n",
    "To answer this question, we will group by item, and throw an additional argument in that represents a function to manipulate the value with."
   ]
  },
  {
   "cell_type": "code",
   "execution_count": null,
   "metadata": {
    "collapsed": false
   },
   "outputs": [],
   "source": [
    "grouped = food.group('Most Popular Item', np.mean)\n",
    "grouped"
   ]
  },
  {
   "cell_type": "code",
   "execution_count": null,
   "metadata": {
    "collapsed": false
   },
   "outputs": [],
   "source": [
    "#To clean this up\n",
    "grouped.select(0,2)"
   ]
  },
  {
   "cell_type": "markdown",
   "metadata": {},
   "source": [
    "Take a moment to absorb this. Our function took each unique value in the Most Popular Item column, and then for each price for each of those items, it took the average of those prices. For the items with only one entry in the table, the price stayed the same (the average of a single value is the value itself).\n",
    "\n",
    "Also ask yourself: Why did I run the second cell to select two columns? Why was there a completely empty column when I first ran the commands?"
   ]
  },
  {
   "cell_type": "markdown",
   "metadata": {},
   "source": [
    "<a id=\"join\"></a>\n",
    "**Join**"
   ]
  },
  {
   "cell_type": "markdown",
   "metadata": {},
   "source": [
    "Suppose we have another table called food_categories that has more information about our restaurants:"
   ]
  },
  {
   "cell_type": "code",
   "execution_count": null,
   "metadata": {
    "collapsed": false
   },
   "outputs": [],
   "source": [
    "restaurants = make_array('FSM', 'FIFO @ Haas', 'Pat Browns', 'GBC', 'Tea One @ Cory',\n",
    "       'Micro Yalis', 'Top Dog', 'Thai Basil', 'Sheng Kee Bakery',\n",
    "       'Subway', 'Chipotle', 'Eatsa', \"Gypsy's\")\n",
    "categories = make_array(\"American Cuisine\", \"American Cuisine\", \"American Cuisine\", \"American Cuisine\", \"Drink\", \"American Cuisine\", \"American Cuisine\", \"Thai Cuisine\", \"Bakery\", \"American Cuisine\", \"Mexican Cuisine\", \"Multiple\", \"Italian Cuisine\")\n",
    "ratings = make_array(3,3,4,2,5,3,4,5,5,1,5,3, 4)\n",
    "food_categories = Table().with_columns('Restaurant', restaurants,\n",
    "                    'Categories', categories,\n",
    "                    'Rating', ratings)\n",
    "\n",
    "food_categories.show()"
   ]
  },
  {
   "cell_type": "markdown",
   "metadata": {},
   "source": [
    "Both of these tables contain information about the same restaurants, so how can we join the tables together so we have access to all the information in one table? We can use the .join() function, which we can call using the following pattern:\n",
    "\n",
    "table1.join(\"col_name_1\", other_table, \"col_name_2\")\n",
    "\n",
    "The tables will be joined by corresponding rows with the same values for col_name_1 and col_name_2. In the example here, notice that food_categories contains information for one more restaurant (Gypsy's). What happens to the resulting table when we join it with our food table, which doesn't have information about Gypsy's?"
   ]
  },
  {
   "cell_type": "code",
   "execution_count": null,
   "metadata": {
    "collapsed": false
   },
   "outputs": [],
   "source": [
    "big_food_table = food.join(\"Food at Berkeley\", food_categories, \"Restaurant\")\n",
    "big_food_table.show()"
   ]
  },
  {
   "cell_type": "markdown",
   "metadata": {},
   "source": [
    "<a id=\"pivot\"></a>\n",
    "**Pivot**"
   ]
  },
  {
   "cell_type": "markdown",
   "metadata": {
    "collapsed": true
   },
   "source": [
    "What if you want to know information about the relationships between two different columns in the table? We can use .pivot() to create different combinations of values for 2 different columns, and give us the number of entries for each combination. We can think of it like, \"Okay, I want to group by two columns: I want the unique groups of the first column to become the column labels of my new table. The unique groups of my second column will 'index' my rows - I want one row per group. The intersections of my row categories and column categories will show me how each pair of categories relates.\" \n",
    "\n",
    "It's easier to understand by looking at this example:\n",
    "\n",
    "We want to know the relationship between the category of food and the rating the restaurant received. There are 6 unique values in \"Categories\" and 5 unique values in \"Rating\", so the resulting table when we use .pivot() will have (5 * 6) = 30 cells that represent combinations of unique categories and ratings. "
   ]
  },
  {
   "cell_type": "code",
   "execution_count": null,
   "metadata": {
    "collapsed": false
   },
   "outputs": [],
   "source": [
    "big_food_table.pivot(\"Categories\", \"Rating\")"
   ]
  },
  {
   "cell_type": "markdown",
   "metadata": {},
   "source": [
    "Here are some questions to think about:\n",
    "<ul>\n",
    "What do the numbers in each cell represent? Why are there so many 0's?<br>\n",
    "How could you use .pivot() to see if there is any relation between the price of the most popular item at a restaurant and the restaurant's rating?\n",
    "\n",
    "</ul>"
   ]
  },
  {
   "cell_type": "markdown",
   "metadata": {},
   "source": [
    "You can also pass in an optional collector function if you want to aggregate values from a certain column. For example, suppose we wanted to find the maximum price for restaurants that serve American Cuisine that got a rating of 3:"
   ]
  },
  {
   "cell_type": "code",
   "execution_count": null,
   "metadata": {
    "collapsed": false
   },
   "outputs": [],
   "source": [
    "big_food_table.pivot(\"Categories\", \"Rating\", collect=max, values=\"Price of MPI\")"
   ]
  },
  {
   "cell_type": "markdown",
   "metadata": {},
   "source": [
    "Notice that this function call took in two extra parameters:\n",
    "    <ul>\n",
    "    collect: an aggregation function (like sum, max, min, np.average, etc.) <br>\n",
    "    values: the label for the column with the values to be aggregated\n",
    "    </ul>\n",
    "    \n",
    "Which cell above represents the entry that answers our question? "
   ]
  },
  {
   "cell_type": "markdown",
   "metadata": {},
   "source": [
    "### Let's continue to the 2nd part of the exercises!  <a href=\"#ex2\">[Exercises Part 2]</a>"
   ]
  },
  {
   "cell_type": "markdown",
   "metadata": {},
   "source": [
    "<a id=\"ex\"></a>\n",
    "# Exercises"
   ]
  },
  {
   "cell_type": "markdown",
   "metadata": {},
   "source": [
    "<a id=\"ex1\"></a>\n",
    "## Part 1\n",
    "\n",
    "Here's a dataset about the passengers of the Titanic - let's load it and take a look."
   ]
  },
  {
   "cell_type": "code",
   "execution_count": null,
   "metadata": {
    "collapsed": false
   },
   "outputs": [],
   "source": [
    "titanic = Table.read_table('titanic.csv')\n",
    "titanic"
   ]
  },
  {
   "cell_type": "markdown",
   "metadata": {},
   "source": [
    "These column names are a little confusing. "
   ]
  },
  {
   "cell_type": "code",
   "execution_count": null,
   "metadata": {
    "collapsed": false
   },
   "outputs": [],
   "source": [
    "#Run this cell\n",
    "key = make_array('Survival', 'PClass', 'Sex', 'Age', 'SisbSp', 'ParCh', 'Ticket', 'Fare', 'Cabin', 'Embarked')\n",
    "definition = make_array('Survive (0 = No, 1 = Yes)', 'Ticket Class', 'Sex', 'Age in Years', 'Number of siblings/spouses aboard', 'Number of parents/children aboard', 'Tickent Number', 'Passenger fare', 'Cabin number', 'Port of Embarkation')\n",
    "table_of_keys = Table().with_columns('Key', key,\n",
    "                                    'Definition', definition)\n",
    "table_of_keys"
   ]
  },
  {
   "cell_type": "markdown",
   "metadata": {},
   "source": [
    "Oftentimes, our data will come in forms that is difficult for us to decipher, or not ideal in its formatting. For instance, in this dataset, the meaning of the names of the columns are unclear. For instance, the columns Pclass, SibSp, and ParCh are all confusing columns.\n",
    "\n",
    "We also observe that the data has some columns that may not be very useful. Suppose we wanted to remove the columns \"passengerId\", \"ticket\", and \"cabin\". \n",
    "\n",
    "#1. Let's change the titanic table for GOOD by assigning the name titanic to a changed table. GOODBYE, OLD TABLE. Reassign the name titanic to a table where the \"PClass\" column is relabeled to \"Class\", and the columns \"passengerID\", \"ticket\", and \"cabin\" are dropped."
   ]
  },
  {
   "cell_type": "code",
   "execution_count": null,
   "metadata": {
    "collapsed": false
   },
   "outputs": [],
   "source": [
    "titanic = ...\n",
    "titanic"
   ]
  },
  {
   "cell_type": "markdown",
   "metadata": {},
   "source": [
    "#2. Let's keep changing our table! The columns 'SibSp' and 'ParCh' seem to reflect similar meanings... Assign the sum of the values of these two columns into the variable family. Add family to the table as the column 'Family', then remove the columns 'SipSp' and 'ParCh'."
   ]
  },
  {
   "cell_type": "code",
   "execution_count": null,
   "metadata": {
    "collapsed": false
   },
   "outputs": [],
   "source": [
    "family = ...\n",
    "titanic = ...\n",
    "titanic "
   ]
  },
  {
   "cell_type": "markdown",
   "metadata": {},
   "source": [
    "**Our titanic table is not the same anymore!! THE OLD ONE IS LOST FOREVER. Just kidding. If you want to find the original, re-run the cell where we loaded the .csv file. However, you'll need to rerun the cells for #1 and #2, or else the notebook will complain about the relabeled/added/dropped columns. Be careful! Now, let's start exploring our data.**"
   ]
  },
  {
   "cell_type": "markdown",
   "metadata": {},
   "source": [
    "#3. How many family members did passengers have on board on average? Assign this value to avg_family."
   ]
  },
  {
   "cell_type": "code",
   "execution_count": null,
   "metadata": {
    "collapsed": false
   },
   "outputs": [],
   "source": [
    "avg_family = ...\n",
    "avg_family"
   ]
  },
  {
   "cell_type": "markdown",
   "metadata": {},
   "source": [
    "#4. Were there possibly more men than women, or vice versa? Find the proportion of passengers that are female."
   ]
  },
  {
   "cell_type": "code",
   "execution_count": null,
   "metadata": {
    "collapsed": false
   },
   "outputs": [],
   "source": [
    "f_passengers = ...\n",
    "f_passengers"
   ]
  },
  {
   "cell_type": "markdown",
   "metadata": {},
   "source": [
    "#5. How many children died? Find the proportion of passengers that are less than 18 years old and did not survive."
   ]
  },
  {
   "cell_type": "code",
   "execution_count": null,
   "metadata": {
    "collapsed": false
   },
   "outputs": [],
   "source": [
    "prop_child_death = ...\n",
    "prop_child_death"
   ]
  },
  {
   "cell_type": "markdown",
   "metadata": {},
   "source": [
    "#6. Who were the oldest passengers? What about that couple in the movie??? Assign the name oldest to a table containing the 10 oldest passengers on the Titanic, in order from the oldest to the youngest. Do not drop any columns."
   ]
  },
  {
   "cell_type": "code",
   "execution_count": null,
   "metadata": {
    "collapsed": false
   },
   "outputs": [],
   "source": [
    "oldest = ...\n",
    "oldest"
   ]
  },
  {
   "cell_type": "markdown",
   "metadata": {},
   "source": [
    "### Now, let's go back to the examples. Here's a handy link: <a href=\"#group\">[x]</a>"
   ]
  },
  {
   "cell_type": "markdown",
   "metadata": {},
   "source": [
    "<a id=\"ex2\"></a>\n",
    "## Part 2\n",
    "\n",
    "#7. Is there an association between the number of family passengers had with them and survival? Assign the name to a survival_w_family table with two columns and two rows: the first column should contain the values '0' and '1', for the passengers' survival, and the second should contain the average number of family aboard the ship for these two groups of passengers. Make a bar chart of this table."
   ]
  },
  {
   "cell_type": "code",
   "execution_count": null,
   "metadata": {
    "collapsed": false
   },
   "outputs": [],
   "source": [
    "survival_w_family = ...\n",
    "survival_w_family"
   ]
  },
  {
   "cell_type": "markdown",
   "metadata": {},
   "source": [
    "#8. Suppose we want to figure out if passengers of a specific ticket class had a higher chance of survival than passengers of the other ticket classes. To calculate survival rate by class, we first need to find the number of passengers that survived in each class. Construct a two-column table `survivors_by_class` that describes the number of survivors by class."
   ]
  },
  {
   "cell_type": "code",
   "execution_count": null,
   "metadata": {
    "collapsed": false
   },
   "outputs": [],
   "source": [
    "survivors_by_class = ... \n",
    "survivors_by_class"
   ]
  },
  {
   "cell_type": "markdown",
   "metadata": {},
   "source": [
    "#9. To calculate survival rate, we also need to find the total number of passengers in each class. Assign `total_by_class` to a two-column table that describes the total number of passengers in each class."
   ]
  },
  {
   "cell_type": "code",
   "execution_count": null,
   "metadata": {
    "collapsed": false
   },
   "outputs": [],
   "source": [
    "total_by_class = ...\n",
    "total_by_class"
   ]
  },
  {
   "cell_type": "markdown",
   "metadata": {},
   "source": [
    "#10. Now we can calculate survival rate by class. Use `total_by_class` to construct a two-column table `class_survival_rates` that contains the different classes in a column labeled `Class` and their corresponding survival rates in a column labeled `Survival Rate`.\n",
    "\n",
    "It may be helpful to first calculate the survival rates."
   ]
  },
  {
   "cell_type": "code",
   "execution_count": null,
   "metadata": {
    "collapsed": false
   },
   "outputs": [],
   "source": [
    "survival_rates = ...\n",
    "class_survival_rates = ...\n",
    "class_survival_rates"
   ]
  },
  {
   "cell_type": "markdown",
   "metadata": {},
   "source": [
    "#11. Suppose that instead of rates, we wanted to see the **number** of survivors and non-survivors by class in the same table. Create a table with three columns and 6 rows, one for each combination of class/survival. *Hint: Table.group can take an array of column labels to group by multiple columns*"
   ]
  },
  {
   "cell_type": "code",
   "execution_count": null,
   "metadata": {
    "collapsed": false
   },
   "outputs": [],
   "source": [
    "class_vs_survival = ...\n",
    "class_vs_survival"
   ]
  },
  {
   "cell_type": "markdown",
   "metadata": {},
   "source": [
    "#12. Another way to visualize this data is using the `.pivot` method. Construct a table that represents the number of survivors and non-survivors by class using `.pivot` with the class labels on the horizontal axis."
   ]
  },
  {
   "cell_type": "code",
   "execution_count": null,
   "metadata": {
    "collapsed": false
   },
   "outputs": [],
   "source": [
    "class_vs_survival2 = ... \n",
    "class_vs_survival2"
   ]
  },
  {
   "cell_type": "markdown",
   "metadata": {
    "collapsed": true
   },
   "source": [
    "#13. LAST QUESTION! We've learned something about class and survival rate. But what about sex? What about class AND sex, together? \n",
    "\n",
    "Let's use pivot again to try to answer these. Create a table that groups by class and sex, with the classes as the column labels. Each cell representing a 'combination' of class/sex should contain the proportion of survivors for each combination of class/sex. (Hint: before, we found the survival rate, or proportion of survivors, by finding the number of survivors and dividing by the total number per group. There's another way to do this by using 'Survived' and one function.)"
   ]
  },
  {
   "cell_type": "code",
   "execution_count": null,
   "metadata": {
    "collapsed": false
   },
   "outputs": [],
   "source": [
    "class_sex_survival = ...\n",
    "class_sex_survival "
   ]
  },
  {
   "cell_type": "markdown",
   "metadata": {
    "collapsed": true
   },
   "source": [
    "# Congratulations!\n",
    "\n",
    "You've reached the end of the notebook!  Data science includes learning powerful tools that empower us to discover statistics and patterns with incredible ease.  We hope you feel more comfortable with these table manipulation functions now! Remember, what arguments does each function take in? What does each function return? A table? An array? A single value? \n",
    "\n",
    "Looking for more practice? We only just started learning about this dataset on the Titanic - feel free to explore more to your heart's content!\n",
    "\n",
    "(Notebook developed by Claire Zhang, Howard Ki, Akriti Singh, Divyesh Chotai, and Hari Subbaraj in Fall 2017.)"
   ]
  }
 ],
 "metadata": {
  "anaconda-cloud": {},
  "kernelspec": {
   "display_name": "Python [default]",
   "language": "python",
   "name": "python3"
  },
  "language_info": {
   "codemirror_mode": {
    "name": "ipython",
    "version": 3
   },
   "file_extension": ".py",
   "mimetype": "text/x-python",
   "name": "python",
   "nbconvert_exporter": "python",
   "pygments_lexer": "ipython3",
   "version": "3.5.2"
  }
 },
 "nbformat": 4,
 "nbformat_minor": 1
}
