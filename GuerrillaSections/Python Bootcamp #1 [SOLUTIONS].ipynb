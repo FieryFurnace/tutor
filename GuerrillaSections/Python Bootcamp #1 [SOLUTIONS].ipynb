{
 "cells": [
  {
   "cell_type": "markdown",
   "metadata": {},
   "source": [
    "# Python Bootcamp #1 Exercise Solutions"
   ]
  },
  {
   "cell_type": "markdown",
   "metadata": {},
   "source": [
    "### Python Basics Exercises"
   ]
  },
  {
   "cell_type": "markdown",
   "metadata": {},
   "source": [
    "1) 1) What is the output when you run the following lines of code? What is assigned to the name 'lilo'? Write your answer in the cell below.\n",
    "\n",
    "lilo = \"stitch\" \n",
    "\n",
    "print(lilo)\n",
    "\n",
    "lilo = \"Lilo\"\n",
    "\n",
    "stitch"
   ]
  },
  {
   "cell_type": "markdown",
   "metadata": {},
   "source": [
    "The string \"stitch\" is printed, and Python outputs an error because the name \"stitch\" is not defined. The string \"Lilo\" is asigned to the name \"lilo\"."
   ]
  },
  {
   "cell_type": "markdown",
   "metadata": {},
   "source": [
    "2) My brother is X years old where X is selected at random from a list of ages. Given X, calculate the number of years it will take for him to turn 100 years old."
   ]
  },
  {
   "cell_type": "code",
   "execution_count": null,
   "metadata": {
    "collapsed": true
   },
   "outputs": [],
   "source": [
    "import numpy as np # Numpy is an important package that we'll be using in class - more on packages in a bit\n",
    "age = np.random.choice(np.arange(1,20)) #This randomly selects a number between 1 and 19 \n",
    "years =  100 - age #SOLUTION\n",
    "print(\"My brother is \" + str(age) + \" years old.\")\n",
    "print(\"He will turn 100 in \" + str(years) + \" years.\")"
   ]
  },
  {
   "cell_type": "markdown",
   "metadata": {},
   "source": [
    "3) In the context of Euclidean Division, we have the dividend, the divisor, the quotient and the remainder (look them up if you don't remember what they are). If I give you the dividend and divisor, can you give me the quotient and remainder? Print your results. Your output should look like this:\n",
    "\n",
    "Dividend: X\n",
    "\n",
    "Divisor: Y\n",
    "\n",
    "Quotient: Z\n",
    "\n",
    "Remainder: A\n",
    "\n",
    "*Hint 1: You may wanna take a look at what the function `int()` does when you call it with a float number. E.g. `int(1/3)`"
   ]
  },
  {
   "cell_type": "code",
   "execution_count": null,
   "metadata": {
    "collapsed": true
   },
   "outputs": [],
   "source": [
    "# Randomly select a pair of divident and divisor\n",
    "dividend = np.random.choice(np.arange(1, 100)) #SOLUTION\n",
    "divisor = np.random.choice(np.arange(1, 6))\n",
    "quotient = int(dividend/divisor)\n",
    "remainder = dividend%divisor\n",
    "print(\"Dividend: \" + str(dividend))\n",
    "print(\"Divisor: \" + str(divisor))\n",
    "print(\"Quotient: \" + str(quotient))\n",
    "print(\"Remainder: \" + str(remainder))"
   ]
  },
  {
   "cell_type": "markdown",
   "metadata": {},
   "source": [
    "4) Find if a number is odd or even. Here, we will have to you an if statement. I encourage you to look up how the if statement is used. Replace the `<condition>` with a boolean expression (eg `1==2` or `1>2` etc)"
   ]
  },
  {
   "cell_type": "code",
   "execution_count": null,
   "metadata": {
    "collapsed": true
   },
   "outputs": [],
   "source": [
    "number = np.random.choice(np.arange(1,1000))\n",
    "if number%2 == 1:\n",
    "    print(str(number) + \" is odd.\") #SOLUTION\n",
    "else:\n",
    "    print(str(number) + \" is even.\")"
   ]
  },
  {
   "cell_type": "markdown",
   "metadata": {},
   "source": [
    "5) Given the expression, add the necessary parentheses to get the desired results. When you are done all the print statement should be True."
   ]
  },
  {
   "cell_type": "code",
   "execution_count": null,
   "metadata": {
    "collapsed": true
   },
   "outputs": [],
   "source": [
    "#example\n",
    "print(1+2/3==1)\n",
    "#Should be changed to\n",
    "print((1+2)/3==1)"
   ]
  },
  {
   "cell_type": "code",
   "execution_count": null,
   "metadata": {
    "collapsed": true
   },
   "outputs": [],
   "source": [
    "print((((1+2)/3)+4)-(5*((6+7+8+9)/10)) == -10) #SOLUTION"
   ]
  },
  {
   "cell_type": "markdown",
   "metadata": {
    "collapsed": true
   },
   "source": [
    "6) Replace each '...' with a correct logical operator such that each Boolean expression evaluates to True. "
   ]
  },
  {
   "cell_type": "code",
   "execution_count": null,
   "metadata": {
    "collapsed": true
   },
   "outputs": [],
   "source": [
    "print(1.0 == 1) #SOLUTION\n",
    "print(2 < 3) \n",
    "print(2 <= 3) #write a different operator than the one above!\n",
    "print(2 != 3) #write a different operator again!\n",
    "print(\"John\" > \"David\")\n",
    "print(\"John\" < \"david\")"
   ]
  },
  {
   "cell_type": "markdown",
   "metadata": {},
   "source": [
    "7) What happens when you run this line of code?\n",
    "\n",
    "\"2\" > 2"
   ]
  },
  {
   "cell_type": "markdown",
   "metadata": {},
   "source": [
    "We get an error because we cannot compare values of different types. \"2\" is a string, while 2 is an int."
   ]
  },
  {
   "cell_type": "markdown",
   "metadata": {
    "collapsed": true
   },
   "source": [
    "### Advanced Programming Exercises"
   ]
  },
  {
   "cell_type": "code",
   "execution_count": null,
   "metadata": {
    "collapsed": true
   },
   "outputs": [],
   "source": [
    "from datascience import * #run this cell \n",
    "import numpy as np "
   ]
  },
  {
   "cell_type": "markdown",
   "metadata": {},
   "source": [
    "1) Without using the built-in function max, find the maximum of 3 numbers a , b, c. Your output should be the same should be the same as the output of max(a,b,c). Do not use max.\n",
    "\n",
    "**Hint: ** You could do that by using if statements but an easier way would be to look at the built-in functions for arrays."
   ]
  },
  {
   "cell_type": "code",
   "execution_count": null,
   "metadata": {
    "collapsed": true
   },
   "outputs": [],
   "source": [
    "a = int(input(\"a\")) #The following three lines allow you to input values for a, b, and c!\n",
    "b = int(input(\"b\"))\n",
    "c = int(input(\"c\"))\n",
    "maximum = np.sort(make_array(a,b,c)).item(2) #SOLUTION\n",
    "maximum"
   ]
  },
  {
   "cell_type": "markdown",
   "metadata": {},
   "source": [
    "2) According to the Oakland Police Department End of Year Report (found <a href=\"http://www2.oaklandnet.com/oakca1/groups/police/documents/webcontent/oak062295.pdf\">here</a>) the historical total number of crimes per year in Oakland is the following.\n",
    "\n",
    "| 2012   | 2013   | 2014   | 2015   | 2016   |\n",
    "|--------|--------|--------|--------|--------|\n",
    "| 33,685 | 33,965 | 31,612 | 31,470 | 29,919 |\n",
    "\n",
    "Without directly typing in a number, find how many years saw more crime than 2012."
   ]
  },
  {
   "cell_type": "code",
   "execution_count": null,
   "metadata": {
    "collapsed": true
   },
   "outputs": [],
   "source": [
    "total_crimes_by_year =  make_array(33685, 33965, 31612, 31470, 29919)\n",
    "num_years = np.count_nonzero(total_crimes_by_year > total_crimes_by_year.item(0)) #SOLUTION\n",
    "num_years"
   ]
  },
  {
   "cell_type": "markdown",
   "metadata": {},
   "source": [
    "3) Find all years of Presidential Elections in the United States between 1788 and 2016. How many years does this span?"
   ]
  },
  {
   "cell_type": "code",
   "execution_count": null,
   "metadata": {
    "collapsed": true
   },
   "outputs": [],
   "source": [
    "pres_elections = np.arange(1788, 2017, 4) #SOLUTION\n",
    "yearspan = 2016 - 1788\n",
    "pres_elections, yearspan"
   ]
  },
  {
   "cell_type": "markdown",
   "metadata": {},
   "source": [
    "4) The formula for compund interest is A = $$P(1 + r/n)^{(n*t)}$$ where P is the starting amount, r is the interest rate (as a decimal), n is the number of compoundings per year, and t is the time passed in years.\n",
    "\n",
    "Let P = 1000, r = 0.05, and n = 2. Make an array that represents A over 10 years."
   ]
  },
  {
   "cell_type": "code",
   "execution_count": null,
   "metadata": {
    "collapsed": true
   },
   "outputs": [],
   "source": [
    "time_passed = make_array(1,2,3,4,5,6,7,8,9,10)\n",
    "amount_of_money_per_year = 1000*((1+(0.05/2))**(2*time_passed)) #SOLUTION\n",
    "amount_of_money_per_year"
   ]
  },
  {
   "cell_type": "markdown",
   "metadata": {},
   "source": [
    "5) You find a store that keeps discounting their items by a certain percentage each day for 10 days. How much will this $1000 item cost on each of the 10 days?"
   ]
  },
  {
   "cell_type": "code",
   "execution_count": null,
   "metadata": {
    "collapsed": true
   },
   "outputs": [],
   "source": [
    "discounts = make_array(5, 10, 4, 8, 6, 4, 9, 20, 4, 12) #Percentage of discount each day\n",
    "\n",
    "# Hint: First make the array of discounts into an array that represents the discounts as a decimal. \n",
    "# Then find what proportion of the total price each discount represents (i.e. a 5% discount means it \n",
    "# represents 95% of the total price of the product). Then you can calculate the price of the item each day\n",
    "\n",
    "discounts_as_decimals = discounts/100 #SOLUTION\n",
    "discounts_as_proportion_of_total_price = 1 - discounts_as_decimals\n",
    "price_by_day = 1000*discounts_as_proportion_of_total_price\n",
    "price_by_day"
   ]
  },
  {
   "cell_type": "markdown",
   "metadata": {},
   "source": [
    "6) You're at a grocery store. Apples are 1 dollar each, oranges are 2 each, and watermelons are 6 each. You decide you want to buy 3 apples, 5 oranges, and 28 watermelons. Without doing any arithmetic, find the total cost of your fruit purchase.  "
   ]
  },
  {
   "cell_type": "code",
   "execution_count": null,
   "metadata": {
    "collapsed": true
   },
   "outputs": [],
   "source": [
    "prices = make_array(1,2,6) #SOLUTION\n",
    "amounts = make_array(3,5,28)\n",
    "total = np.sum(prices*amounts)\n",
    "total"
   ]
  },
  {
   "cell_type": "markdown",
   "metadata": {},
   "source": [
    "If you are done with the exercises and you are looking for more of a challenge, take a look at this <a href=\"http://www.practicepython.org/\">page</a> for some more advanced exercises. (A lot of the material you don't have to know for this class)"
   ]
  },
  {
   "cell_type": "markdown",
   "metadata": {},
   "source": [
    "# Table Practice Problems"
   ]
  },
  {
   "cell_type": "markdown",
   "metadata": {},
   "source": [
    "UC Berkeley recently performed a survey of 10 students asking for their height. We have provided a list the students in an array named students, along with their height in an array called height. Build a table height with a column \"Name\" displaying their name and a column \"Height\" displaying their height..\n",
    "\n",
    "We have provided an array of their names as well as heights."
   ]
  },
  {
   "cell_type": "code",
   "execution_count": null,
   "metadata": {
    "collapsed": false
   },
   "outputs": [],
   "source": [
    "students = make_array('Henry', 'Mark', 'Michael', 'Sarah', 'Michelle', 'Chelsea', 'Alyssa', 'Mark', 'Anna', 'Devin')\n",
    "heights = make_array(60, 70, 68, 65, 73, 70, 58, 72, 64, 75)\n",
    "survey = Table().with_columns('Name', students,\n",
    "                           'Height', heights)\n",
    "survey"
   ]
  },
  {
   "cell_type": "markdown",
   "metadata": {},
   "source": [
    "1) For kicks, write a line of code that outputs a table containing only the names of the students."
   ]
  },
  {
   "cell_type": "code",
   "execution_count": null,
   "metadata": {
    "collapsed": false
   },
   "outputs": [],
   "source": [
    "names = survey.select('Name') #SOLUTION\n",
    "names"
   ]
  },
  {
   "cell_type": "markdown",
   "metadata": {},
   "source": [
    "2) Let's see what we can find about the data set! Suppose we are interested in who is the tallest individual out of the 10 interviewed students. Write code that outputs the tallest individual in the table."
   ]
  },
  {
   "cell_type": "code",
   "execution_count": null,
   "metadata": {
    "collapsed": false
   },
   "outputs": [],
   "source": [
    "tallest = survey.sort('Height', descending = True).column('Name').item(0) #SOLUTION\n",
    "tallest"
   ]
  },
  {
   "cell_type": "markdown",
   "metadata": {},
   "source": [
    "3) While finding outliers (max, min) in the data is important, another question that often comes up in statistical analysis is the average. Use your knowledge of tables and arrays to assign average to the value of the average height of the students."
   ]
  },
  {
   "cell_type": "code",
   "execution_count": null,
   "metadata": {
    "collapsed": false
   },
   "outputs": [],
   "source": [
    "average = np.mean(survey.column('Height')) #SOLUTION\n",
    "average"
   ]
  },
  {
   "cell_type": "markdown",
   "metadata": {},
   "source": [
    "4) Another important statistic to look for is the standard deviation. You will learn more about the process of searching for standard deviation and its properties down the line, but for now, assign the name sd to the standard deviation of all the scores."
   ]
  },
  {
   "cell_type": "code",
   "execution_count": null,
   "metadata": {
    "collapsed": false
   },
   "outputs": [],
   "source": [
    "sd = np.std(survey.column('Height')) #SOLUTION\n",
    "sd"
   ]
  },
  {
   "cell_type": "markdown",
   "metadata": {},
   "source": [
    "5) Devin gets ahold of the data, and wonders how his height matches up to the height of his fellow students. He is a pretty tall person, so he suspects that his height will be above the average. Help him! Assign the name devin to be the number of inches that devin is taller than the average."
   ]
  },
  {
   "cell_type": "code",
   "execution_count": null,
   "metadata": {
    "collapsed": false
   },
   "outputs": [],
   "source": [
    "devin = survey.where('Name', 'Devin').column('Height').item(0) - np.mean(survey.column('Height')) #SOLUTION\n",
    "devin"
   ]
  },
  {
   "cell_type": "markdown",
   "metadata": {},
   "source": [
    "6) Finally, an instructor looks at the data and decides that they believe having the name Mark will make a person grow taller. Find the difference in the _average of heights of individuals named Mark_ and the _average of the height of the rest of the individuals_. Assign this to the name mark_difference."
   ]
  },
  {
   "cell_type": "code",
   "execution_count": null,
   "metadata": {
    "collapsed": false
   },
   "outputs": [],
   "source": [
    "mark_difference = np.mean(survey.where('Name', 'Mark').column('Height')) \n",
    "                    - np.mean(survey.where('Name', are.not_equal_to('Mark')).column('Height')) #SOLUTION\n",
    "mark_difference"
   ]
  },
  {
   "cell_type": "markdown",
   "metadata": {},
   "source": [
    "7) Can one conclude that having the name Mark will cause a person to grow taller? Why or why not?"
   ]
  },
  {
   "cell_type": "markdown",
   "metadata": {},
   "source": [
    "No, this does not qualify as a randomized controlled experiment to determine causality. #SOLUTION"
   ]
  }
 ],
 "metadata": {
  "anaconda-cloud": {},
  "kernelspec": {
   "display_name": "Python [default]",
   "language": "python",
   "name": "python3"
  },
  "language_info": {
   "codemirror_mode": {
    "name": "ipython",
    "version": 3
   },
   "file_extension": ".py",
   "mimetype": "text/x-python",
   "name": "python",
   "nbconvert_exporter": "python",
   "pygments_lexer": "ipython3",
   "version": "3.5.2"
  }
 },
 "nbformat": 4,
 "nbformat_minor": 1
}
