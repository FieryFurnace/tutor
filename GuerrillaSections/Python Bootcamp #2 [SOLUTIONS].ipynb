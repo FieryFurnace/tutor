{
 "cells": [
  {
   "cell_type": "markdown",
   "metadata": {},
   "source": [
    "# Solutions"
   ]
  },
  {
   "cell_type": "markdown",
   "metadata": {},
   "source": [
    "These are the solutions for the exercises attached to Guerilla Section #2! Please read through these carefully as all the staff will should be in regular communication with the students. Thanks!"
   ]
  },
  {
   "cell_type": "code",
   "execution_count": 1,
   "metadata": {
    "collapsed": true
   },
   "outputs": [],
   "source": [
    "#Run this cell\n",
    "from datascience import *\n",
    "import numpy as np\n",
    "import matplotlib.pyplot as plt"
   ]
  },
  {
   "cell_type": "markdown",
   "metadata": {},
   "source": [
    "<a id=\"ex1\"></a>\n",
    "## Part 1\n",
    "\n",
    "Here's a dataset about the passengers of the Titanic - let's load it and take a look."
   ]
  },
  {
   "cell_type": "code",
   "execution_count": 2,
   "metadata": {
    "collapsed": false
   },
   "outputs": [
    {
     "data": {
      "text/html": [
       "<table border=\"1\" class=\"dataframe\">\n",
       "    <thead>\n",
       "        <tr>\n",
       "            <th>PassengerId</th> <th>Survived</th> <th>Pclass</th> <th>Name</th> <th>Sex</th> <th>Age</th> <th>SibSp</th> <th>ParCh</th> <th>Ticket</th> <th>Fare</th> <th>Cabin</th> <th>Embarked</th>\n",
       "        </tr>\n",
       "    </thead>\n",
       "    <tbody>\n",
       "        <tr>\n",
       "            <td>1          </td> <td>0       </td> <td>3     </td> <td>Braund, Mr. Owen Harris                            </td> <td>male  </td> <td>22  </td> <td>1    </td> <td>0    </td> <td>A/5 21171       </td> <td>7.25   </td> <td>nan  </td> <td>S       </td>\n",
       "        </tr>\n",
       "    </tbody>\n",
       "        <tr>\n",
       "            <td>2          </td> <td>1       </td> <td>1     </td> <td>Cumings, Mrs. John Bradley (Florence Briggs Thayer)</td> <td>female</td> <td>38  </td> <td>1    </td> <td>0    </td> <td>PC 17599        </td> <td>71.2833</td> <td>C85  </td> <td>C       </td>\n",
       "        </tr>\n",
       "    </tbody>\n",
       "        <tr>\n",
       "            <td>3          </td> <td>1       </td> <td>3     </td> <td>Heikkinen, Miss. Laina                             </td> <td>female</td> <td>26  </td> <td>0    </td> <td>0    </td> <td>STON/O2. 3101282</td> <td>7.925  </td> <td>nan  </td> <td>S       </td>\n",
       "        </tr>\n",
       "    </tbody>\n",
       "        <tr>\n",
       "            <td>4          </td> <td>1       </td> <td>1     </td> <td>Futrelle, Mrs. Jacques Heath (Lily May Peel)       </td> <td>female</td> <td>35  </td> <td>1    </td> <td>0    </td> <td>113803          </td> <td>53.1   </td> <td>C123 </td> <td>S       </td>\n",
       "        </tr>\n",
       "    </tbody>\n",
       "        <tr>\n",
       "            <td>5          </td> <td>0       </td> <td>3     </td> <td>Allen, Mr. William Henry                           </td> <td>male  </td> <td>35  </td> <td>0    </td> <td>0    </td> <td>373450          </td> <td>8.05   </td> <td>nan  </td> <td>S       </td>\n",
       "        </tr>\n",
       "    </tbody>\n",
       "        <tr>\n",
       "            <td>7          </td> <td>0       </td> <td>1     </td> <td>McCarthy, Mr. Timothy J                            </td> <td>male  </td> <td>54  </td> <td>0    </td> <td>0    </td> <td>17463           </td> <td>51.8625</td> <td>E46  </td> <td>S       </td>\n",
       "        </tr>\n",
       "    </tbody>\n",
       "        <tr>\n",
       "            <td>8          </td> <td>0       </td> <td>3     </td> <td>Palsson, Master. Gosta Leonard                     </td> <td>male  </td> <td>2   </td> <td>3    </td> <td>1    </td> <td>349909          </td> <td>21.075 </td> <td>nan  </td> <td>S       </td>\n",
       "        </tr>\n",
       "    </tbody>\n",
       "        <tr>\n",
       "            <td>9          </td> <td>1       </td> <td>3     </td> <td>Johnson, Mrs. Oscar W (Elisabeth Vilhelmina Berg)  </td> <td>female</td> <td>27  </td> <td>0    </td> <td>2    </td> <td>347742          </td> <td>11.1333</td> <td>nan  </td> <td>S       </td>\n",
       "        </tr>\n",
       "    </tbody>\n",
       "        <tr>\n",
       "            <td>10         </td> <td>1       </td> <td>2     </td> <td>Nasser, Mrs. Nicholas (Adele Achem)                </td> <td>female</td> <td>14  </td> <td>1    </td> <td>0    </td> <td>237736          </td> <td>30.0708</td> <td>nan  </td> <td>C       </td>\n",
       "        </tr>\n",
       "    </tbody>\n",
       "        <tr>\n",
       "            <td>11         </td> <td>1       </td> <td>3     </td> <td>Sandstrom, Miss. Marguerite Rut                    </td> <td>female</td> <td>4   </td> <td>1    </td> <td>1    </td> <td>PP 9549         </td> <td>16.7   </td> <td>G6   </td> <td>S       </td>\n",
       "        </tr>\n",
       "    </tbody>\n",
       "</table>\n",
       "<p>... (695 rows omitted)</p"
      ],
      "text/plain": [
       "PassengerId | Survived | Pclass | Name                                                | Sex    | Age  | SibSp | ParCh | Ticket           | Fare    | Cabin | Embarked\n",
       "1           | 0        | 3      | Braund, Mr. Owen Harris                             | male   | 22   | 1     | 0     | A/5 21171        | 7.25    | nan   | S\n",
       "2           | 1        | 1      | Cumings, Mrs. John Bradley (Florence Briggs Thayer) | female | 38   | 1     | 0     | PC 17599         | 71.2833 | C85   | C\n",
       "3           | 1        | 3      | Heikkinen, Miss. Laina                              | female | 26   | 0     | 0     | STON/O2. 3101282 | 7.925   | nan   | S\n",
       "4           | 1        | 1      | Futrelle, Mrs. Jacques Heath (Lily May Peel)        | female | 35   | 1     | 0     | 113803           | 53.1    | C123  | S\n",
       "5           | 0        | 3      | Allen, Mr. William Henry                            | male   | 35   | 0     | 0     | 373450           | 8.05    | nan   | S\n",
       "7           | 0        | 1      | McCarthy, Mr. Timothy J                             | male   | 54   | 0     | 0     | 17463            | 51.8625 | E46   | S\n",
       "8           | 0        | 3      | Palsson, Master. Gosta Leonard                      | male   | 2    | 3     | 1     | 349909           | 21.075  | nan   | S\n",
       "9           | 1        | 3      | Johnson, Mrs. Oscar W (Elisabeth Vilhelmina Berg)   | female | 27   | 0     | 2     | 347742           | 11.1333 | nan   | S\n",
       "10          | 1        | 2      | Nasser, Mrs. Nicholas (Adele Achem)                 | female | 14   | 1     | 0     | 237736           | 30.0708 | nan   | C\n",
       "11          | 1        | 3      | Sandstrom, Miss. Marguerite Rut                     | female | 4    | 1     | 1     | PP 9549          | 16.7    | G6    | S\n",
       "... (695 rows omitted)"
      ]
     },
     "execution_count": 2,
     "metadata": {},
     "output_type": "execute_result"
    }
   ],
   "source": [
    "titanic = Table.read_table('titanic.csv')\n",
    "titanic"
   ]
  },
  {
   "cell_type": "markdown",
   "metadata": {},
   "source": [
    "These column named are a little confusing. "
   ]
  },
  {
   "cell_type": "code",
   "execution_count": 3,
   "metadata": {
    "collapsed": false
   },
   "outputs": [
    {
     "data": {
      "text/html": [
       "<table border=\"1\" class=\"dataframe\">\n",
       "    <thead>\n",
       "        <tr>\n",
       "            <th>Key</th> <th>Definition</th>\n",
       "        </tr>\n",
       "    </thead>\n",
       "    <tbody>\n",
       "        <tr>\n",
       "            <td>Survival</td> <td>Survive (0 = No, 1 = Yes)        </td>\n",
       "        </tr>\n",
       "    </tbody>\n",
       "        <tr>\n",
       "            <td>PClass  </td> <td>Ticket Class                     </td>\n",
       "        </tr>\n",
       "    </tbody>\n",
       "        <tr>\n",
       "            <td>Sex     </td> <td>Sex                              </td>\n",
       "        </tr>\n",
       "    </tbody>\n",
       "        <tr>\n",
       "            <td>Age     </td> <td>Age in Years                     </td>\n",
       "        </tr>\n",
       "    </tbody>\n",
       "        <tr>\n",
       "            <td>SisbSp  </td> <td>Number of siblings/spouses aboard</td>\n",
       "        </tr>\n",
       "    </tbody>\n",
       "        <tr>\n",
       "            <td>ParCh   </td> <td>Number of parents/children aboard</td>\n",
       "        </tr>\n",
       "    </tbody>\n",
       "        <tr>\n",
       "            <td>Ticket  </td> <td>Tickent Number                   </td>\n",
       "        </tr>\n",
       "    </tbody>\n",
       "        <tr>\n",
       "            <td>Fare    </td> <td>Passenger fare                   </td>\n",
       "        </tr>\n",
       "    </tbody>\n",
       "        <tr>\n",
       "            <td>Cabin   </td> <td>Cabin number                     </td>\n",
       "        </tr>\n",
       "    </tbody>\n",
       "        <tr>\n",
       "            <td>Embarked</td> <td>Port of Embarkation              </td>\n",
       "        </tr>\n",
       "    </tbody>\n",
       "</table>"
      ],
      "text/plain": [
       "Key      | Definition\n",
       "Survival | Survive (0 = No, 1 = Yes)\n",
       "PClass   | Ticket Class\n",
       "Sex      | Sex\n",
       "Age      | Age in Years\n",
       "SisbSp   | Number of siblings/spouses aboard\n",
       "ParCh    | Number of parents/children aboard\n",
       "Ticket   | Tickent Number\n",
       "Fare     | Passenger fare\n",
       "Cabin    | Cabin number\n",
       "Embarked | Port of Embarkation"
      ]
     },
     "execution_count": 3,
     "metadata": {},
     "output_type": "execute_result"
    }
   ],
   "source": [
    "#Run this cell\n",
    "key = make_array('Survival', 'PClass', 'Sex', 'Age', 'SisbSp', 'ParCh', 'Ticket', 'Fare', 'Cabin', 'Embarked')\n",
    "definition = make_array('Survive (0 = No, 1 = Yes)', 'Ticket Class', 'Sex', 'Age in Years', 'Number of siblings/spouses aboard', 'Number of parents/children aboard', 'Tickent Number', 'Passenger fare', 'Cabin number', 'Port of Embarkation')\n",
    "table_of_keys = Table().with_columns('Key', key,\n",
    "                                    'Definition', definition)\n",
    "table_of_keys"
   ]
  },
  {
   "cell_type": "markdown",
   "metadata": {},
   "source": [
    "Oftentimes, our data will come in forms that is difficult for us to decipher, or not ideal in its formatting. For instance, in this dataset, the meaning of the names of the columns are unclear. For instance, the columns Pclass, SibSp, and ParCh are all confusing columns.\n",
    "\n",
    "We also observe that the data has some columns that may not be very useful. Suppose we wanted to remove the columns \"passengerId\", \"ticket\", and \"cabin\". \n",
    "\n",
    "#1. Let's change the titanic table for GOOD by assigning the name titanic to a changed table. GOODBYE, OLD TABLE. Reassign the name titanic to a table where the \"PClass\" column is relabeled to \"Class\", and the columns \"passengerID\", \"ticket\", and \"cabin\" are dropped."
   ]
  },
  {
   "cell_type": "code",
   "execution_count": 4,
   "metadata": {
    "collapsed": false
   },
   "outputs": [
    {
     "data": {
      "text/html": [
       "<table border=\"1\" class=\"dataframe\">\n",
       "    <thead>\n",
       "        <tr>\n",
       "            <th>Survived</th> <th>Class</th> <th>Name</th> <th>Sex</th> <th>Age</th> <th>SibSp</th> <th>ParCh</th> <th>Fare</th> <th>Embarked</th>\n",
       "        </tr>\n",
       "    </thead>\n",
       "    <tbody>\n",
       "        <tr>\n",
       "            <td>0       </td> <td>3    </td> <td>Braund, Mr. Owen Harris                            </td> <td>male  </td> <td>22  </td> <td>1    </td> <td>0    </td> <td>7.25   </td> <td>S       </td>\n",
       "        </tr>\n",
       "    </tbody>\n",
       "        <tr>\n",
       "            <td>1       </td> <td>1    </td> <td>Cumings, Mrs. John Bradley (Florence Briggs Thayer)</td> <td>female</td> <td>38  </td> <td>1    </td> <td>0    </td> <td>71.2833</td> <td>C       </td>\n",
       "        </tr>\n",
       "    </tbody>\n",
       "        <tr>\n",
       "            <td>1       </td> <td>3    </td> <td>Heikkinen, Miss. Laina                             </td> <td>female</td> <td>26  </td> <td>0    </td> <td>0    </td> <td>7.925  </td> <td>S       </td>\n",
       "        </tr>\n",
       "    </tbody>\n",
       "        <tr>\n",
       "            <td>1       </td> <td>1    </td> <td>Futrelle, Mrs. Jacques Heath (Lily May Peel)       </td> <td>female</td> <td>35  </td> <td>1    </td> <td>0    </td> <td>53.1   </td> <td>S       </td>\n",
       "        </tr>\n",
       "    </tbody>\n",
       "        <tr>\n",
       "            <td>0       </td> <td>3    </td> <td>Allen, Mr. William Henry                           </td> <td>male  </td> <td>35  </td> <td>0    </td> <td>0    </td> <td>8.05   </td> <td>S       </td>\n",
       "        </tr>\n",
       "    </tbody>\n",
       "        <tr>\n",
       "            <td>0       </td> <td>1    </td> <td>McCarthy, Mr. Timothy J                            </td> <td>male  </td> <td>54  </td> <td>0    </td> <td>0    </td> <td>51.8625</td> <td>S       </td>\n",
       "        </tr>\n",
       "    </tbody>\n",
       "        <tr>\n",
       "            <td>0       </td> <td>3    </td> <td>Palsson, Master. Gosta Leonard                     </td> <td>male  </td> <td>2   </td> <td>3    </td> <td>1    </td> <td>21.075 </td> <td>S       </td>\n",
       "        </tr>\n",
       "    </tbody>\n",
       "        <tr>\n",
       "            <td>1       </td> <td>3    </td> <td>Johnson, Mrs. Oscar W (Elisabeth Vilhelmina Berg)  </td> <td>female</td> <td>27  </td> <td>0    </td> <td>2    </td> <td>11.1333</td> <td>S       </td>\n",
       "        </tr>\n",
       "    </tbody>\n",
       "        <tr>\n",
       "            <td>1       </td> <td>2    </td> <td>Nasser, Mrs. Nicholas (Adele Achem)                </td> <td>female</td> <td>14  </td> <td>1    </td> <td>0    </td> <td>30.0708</td> <td>C       </td>\n",
       "        </tr>\n",
       "    </tbody>\n",
       "        <tr>\n",
       "            <td>1       </td> <td>3    </td> <td>Sandstrom, Miss. Marguerite Rut                    </td> <td>female</td> <td>4   </td> <td>1    </td> <td>1    </td> <td>16.7   </td> <td>S       </td>\n",
       "        </tr>\n",
       "    </tbody>\n",
       "</table>\n",
       "<p>... (695 rows omitted)</p"
      ],
      "text/plain": [
       "Survived | Class | Name                                                | Sex    | Age  | SibSp | ParCh | Fare    | Embarked\n",
       "0        | 3     | Braund, Mr. Owen Harris                             | male   | 22   | 1     | 0     | 7.25    | S\n",
       "1        | 1     | Cumings, Mrs. John Bradley (Florence Briggs Thayer) | female | 38   | 1     | 0     | 71.2833 | C\n",
       "1        | 3     | Heikkinen, Miss. Laina                              | female | 26   | 0     | 0     | 7.925   | S\n",
       "1        | 1     | Futrelle, Mrs. Jacques Heath (Lily May Peel)        | female | 35   | 1     | 0     | 53.1    | S\n",
       "0        | 3     | Allen, Mr. William Henry                            | male   | 35   | 0     | 0     | 8.05    | S\n",
       "0        | 1     | McCarthy, Mr. Timothy J                             | male   | 54   | 0     | 0     | 51.8625 | S\n",
       "0        | 3     | Palsson, Master. Gosta Leonard                      | male   | 2    | 3     | 1     | 21.075  | S\n",
       "1        | 3     | Johnson, Mrs. Oscar W (Elisabeth Vilhelmina Berg)   | female | 27   | 0     | 2     | 11.1333 | S\n",
       "1        | 2     | Nasser, Mrs. Nicholas (Adele Achem)                 | female | 14   | 1     | 0     | 30.0708 | C\n",
       "1        | 3     | Sandstrom, Miss. Marguerite Rut                     | female | 4    | 1     | 1     | 16.7    | S\n",
       "... (695 rows omitted)"
      ]
     },
     "execution_count": 4,
     "metadata": {},
     "output_type": "execute_result"
    }
   ],
   "source": [
    "titanic = titanic.relabeled('Pclass','Class').drop('PassengerId','Ticket','Cabin') #SOLUTION\n",
    "titanic"
   ]
  },
  {
   "cell_type": "markdown",
   "metadata": {
    "collapsed": true
   },
   "source": [
    "#2. Let's keep changing our table! The columns 'SibSp' and 'ParCh' seem to reflect similar meanings... Assign the sum of the values of these two columns into the variable family. Add family to the table as the column 'Family', then remove the columns 'SipSp' and 'ParCh'."
   ]
  },
  {
   "cell_type": "code",
   "execution_count": 5,
   "metadata": {
    "collapsed": false
   },
   "outputs": [
    {
     "data": {
      "text/html": [
       "<table border=\"1\" class=\"dataframe\">\n",
       "    <thead>\n",
       "        <tr>\n",
       "            <th>Survived</th> <th>Class</th> <th>Name</th> <th>Sex</th> <th>Age</th> <th>Fare</th> <th>Embarked</th> <th>Family</th>\n",
       "        </tr>\n",
       "    </thead>\n",
       "    <tbody>\n",
       "        <tr>\n",
       "            <td>0       </td> <td>3    </td> <td>Braund, Mr. Owen Harris                            </td> <td>male  </td> <td>22  </td> <td>7.25   </td> <td>S       </td> <td>1     </td>\n",
       "        </tr>\n",
       "    </tbody>\n",
       "        <tr>\n",
       "            <td>1       </td> <td>1    </td> <td>Cumings, Mrs. John Bradley (Florence Briggs Thayer)</td> <td>female</td> <td>38  </td> <td>71.2833</td> <td>C       </td> <td>1     </td>\n",
       "        </tr>\n",
       "    </tbody>\n",
       "        <tr>\n",
       "            <td>1       </td> <td>3    </td> <td>Heikkinen, Miss. Laina                             </td> <td>female</td> <td>26  </td> <td>7.925  </td> <td>S       </td> <td>0     </td>\n",
       "        </tr>\n",
       "    </tbody>\n",
       "        <tr>\n",
       "            <td>1       </td> <td>1    </td> <td>Futrelle, Mrs. Jacques Heath (Lily May Peel)       </td> <td>female</td> <td>35  </td> <td>53.1   </td> <td>S       </td> <td>1     </td>\n",
       "        </tr>\n",
       "    </tbody>\n",
       "        <tr>\n",
       "            <td>0       </td> <td>3    </td> <td>Allen, Mr. William Henry                           </td> <td>male  </td> <td>35  </td> <td>8.05   </td> <td>S       </td> <td>0     </td>\n",
       "        </tr>\n",
       "    </tbody>\n",
       "        <tr>\n",
       "            <td>0       </td> <td>1    </td> <td>McCarthy, Mr. Timothy J                            </td> <td>male  </td> <td>54  </td> <td>51.8625</td> <td>S       </td> <td>0     </td>\n",
       "        </tr>\n",
       "    </tbody>\n",
       "        <tr>\n",
       "            <td>0       </td> <td>3    </td> <td>Palsson, Master. Gosta Leonard                     </td> <td>male  </td> <td>2   </td> <td>21.075 </td> <td>S       </td> <td>4     </td>\n",
       "        </tr>\n",
       "    </tbody>\n",
       "        <tr>\n",
       "            <td>1       </td> <td>3    </td> <td>Johnson, Mrs. Oscar W (Elisabeth Vilhelmina Berg)  </td> <td>female</td> <td>27  </td> <td>11.1333</td> <td>S       </td> <td>2     </td>\n",
       "        </tr>\n",
       "    </tbody>\n",
       "        <tr>\n",
       "            <td>1       </td> <td>2    </td> <td>Nasser, Mrs. Nicholas (Adele Achem)                </td> <td>female</td> <td>14  </td> <td>30.0708</td> <td>C       </td> <td>1     </td>\n",
       "        </tr>\n",
       "    </tbody>\n",
       "        <tr>\n",
       "            <td>1       </td> <td>3    </td> <td>Sandstrom, Miss. Marguerite Rut                    </td> <td>female</td> <td>4   </td> <td>16.7   </td> <td>S       </td> <td>2     </td>\n",
       "        </tr>\n",
       "    </tbody>\n",
       "</table>\n",
       "<p>... (695 rows omitted)</p"
      ],
      "text/plain": [
       "Survived | Class | Name                                                | Sex    | Age  | Fare    | Embarked | Family\n",
       "0        | 3     | Braund, Mr. Owen Harris                             | male   | 22   | 7.25    | S        | 1\n",
       "1        | 1     | Cumings, Mrs. John Bradley (Florence Briggs Thayer) | female | 38   | 71.2833 | C        | 1\n",
       "1        | 3     | Heikkinen, Miss. Laina                              | female | 26   | 7.925   | S        | 0\n",
       "1        | 1     | Futrelle, Mrs. Jacques Heath (Lily May Peel)        | female | 35   | 53.1    | S        | 1\n",
       "0        | 3     | Allen, Mr. William Henry                            | male   | 35   | 8.05    | S        | 0\n",
       "0        | 1     | McCarthy, Mr. Timothy J                             | male   | 54   | 51.8625 | S        | 0\n",
       "0        | 3     | Palsson, Master. Gosta Leonard                      | male   | 2    | 21.075  | S        | 4\n",
       "1        | 3     | Johnson, Mrs. Oscar W (Elisabeth Vilhelmina Berg)   | female | 27   | 11.1333 | S        | 2\n",
       "1        | 2     | Nasser, Mrs. Nicholas (Adele Achem)                 | female | 14   | 30.0708 | C        | 1\n",
       "1        | 3     | Sandstrom, Miss. Marguerite Rut                     | female | 4    | 16.7    | S        | 2\n",
       "... (695 rows omitted)"
      ]
     },
     "execution_count": 5,
     "metadata": {},
     "output_type": "execute_result"
    }
   ],
   "source": [
    "family = titanic.column('SibSp') + titanic.column('ParCh') #SOLUTION\n",
    "titanic = titanic.with_column('Family', family).drop('SibSp', 'ParCh')\n",
    "titanic "
   ]
  },
  {
   "cell_type": "markdown",
   "metadata": {},
   "source": [
    "#3. How many family members did passengers have on board on average? Assign this value to avg_family."
   ]
  },
  {
   "cell_type": "code",
   "execution_count": 6,
   "metadata": {
    "collapsed": false
   },
   "outputs": [
    {
     "data": {
      "text/plain": [
       "0.93475177304964541"
      ]
     },
     "execution_count": 6,
     "metadata": {},
     "output_type": "execute_result"
    }
   ],
   "source": [
    "avg_family = np.mean(titanic.column('Family')) #SOLUTION\n",
    "avg_family"
   ]
  },
  {
   "cell_type": "markdown",
   "metadata": {},
   "source": [
    "#4. Were there possibly more men than women, or vice versa? Find the proportion of passengers that are female."
   ]
  },
  {
   "cell_type": "code",
   "execution_count": 7,
   "metadata": {
    "collapsed": false
   },
   "outputs": [
    {
     "data": {
      "text/plain": [
       "0.3546099290780142"
      ]
     },
     "execution_count": 7,
     "metadata": {},
     "output_type": "execute_result"
    }
   ],
   "source": [
    "f_passengers = (titanic.where('Sex', 'female').num_rows)/(titanic.num_rows) #SOLUTION\n",
    "f_passengers"
   ]
  },
  {
   "cell_type": "markdown",
   "metadata": {},
   "source": [
    "#5. How many children died? Find the proportion of passengers that are less than 18 years old and did not survive."
   ]
  },
  {
   "cell_type": "code",
   "execution_count": 8,
   "metadata": {
    "collapsed": false
   },
   "outputs": [
    {
     "data": {
      "text/plain": [
       "0.08226950354609928"
      ]
     },
     "execution_count": 8,
     "metadata": {},
     "output_type": "execute_result"
    }
   ],
   "source": [
    "prop_child_death = (titanic.where('Age', are.below(18)).where('Survived', 0).num_rows)/(titanic.num_rows) #SOLUTION\n",
    "prop_child_death"
   ]
  },
  {
   "cell_type": "markdown",
   "metadata": {},
   "source": [
    "#6. Who were the oldest passengers? What about that couple in the movie??? Assign the name oldest to a table containing the 10 oldest passengers on the Titanic, in order from the oldest to the youngest. Do not drop any columns."
   ]
  },
  {
   "cell_type": "code",
   "execution_count": 9,
   "metadata": {
    "collapsed": false
   },
   "outputs": [
    {
     "data": {
      "text/html": [
       "<table border=\"1\" class=\"dataframe\">\n",
       "    <thead>\n",
       "        <tr>\n",
       "            <th>Survived</th> <th>Class</th> <th>Name</th> <th>Sex</th> <th>Age</th> <th>Fare</th> <th>Embarked</th> <th>Family</th>\n",
       "        </tr>\n",
       "    </thead>\n",
       "    <tbody>\n",
       "        <tr>\n",
       "            <td>1       </td> <td>1    </td> <td>Longley, Miss. Gretchen Fiske                    </td> <td>female</td> <td>80  </td> <td>77.9583</td> <td>S       </td> <td>0     </td>\n",
       "        </tr>\n",
       "    </tbody>\n",
       "        <tr>\n",
       "            <td>0       </td> <td>2    </td> <td>Harper, Rev. John                                </td> <td>male  </td> <td>74  </td> <td>33     </td> <td>S       </td> <td>1     </td>\n",
       "        </tr>\n",
       "    </tbody>\n",
       "        <tr>\n",
       "            <td>0       </td> <td>1    </td> <td>Artagaveytia, Mr. Ramon                          </td> <td>male  </td> <td>71  </td> <td>49.5042</td> <td>C       </td> <td>0     </td>\n",
       "        </tr>\n",
       "    </tbody>\n",
       "        <tr>\n",
       "            <td>0       </td> <td>1    </td> <td>Goldschmidt, Mr. George B                        </td> <td>male  </td> <td>71  </td> <td>34.6542</td> <td>C       </td> <td>0     </td>\n",
       "        </tr>\n",
       "    </tbody>\n",
       "        <tr>\n",
       "            <td>0       </td> <td>3    </td> <td>Connors, Mr. Patrick                             </td> <td>male  </td> <td>70.5</td> <td>7.75   </td> <td>Q       </td> <td>0     </td>\n",
       "        </tr>\n",
       "    </tbody>\n",
       "        <tr>\n",
       "            <td>1       </td> <td>1    </td> <td>Ryerson, Miss. Susan Parker \"Suzette\"            </td> <td>female</td> <td>70  </td> <td>262.375</td> <td>C       </td> <td>4     </td>\n",
       "        </tr>\n",
       "    </tbody>\n",
       "        <tr>\n",
       "            <td>1       </td> <td>1    </td> <td>Taylor, Mrs. Elmer Zebley (Juliet Cummins Wright)</td> <td>female</td> <td>70  </td> <td>52     </td> <td>S       </td> <td>1     </td>\n",
       "        </tr>\n",
       "    </tbody>\n",
       "        <tr>\n",
       "            <td>0       </td> <td>2    </td> <td>Wheadon, Mr. Edward H                            </td> <td>male  </td> <td>66  </td> <td>10.5   </td> <td>S       </td> <td>0     </td>\n",
       "        </tr>\n",
       "    </tbody>\n",
       "        <tr>\n",
       "            <td>0       </td> <td>1    </td> <td>Millet, Mr. Francis Davis                        </td> <td>male  </td> <td>65  </td> <td>26.55  </td> <td>S       </td> <td>0     </td>\n",
       "        </tr>\n",
       "    </tbody>\n",
       "        <tr>\n",
       "            <td>0       </td> <td>3    </td> <td>Duane, Mr. Frank                                 </td> <td>male  </td> <td>65  </td> <td>7.75   </td> <td>Q       </td> <td>0     </td>\n",
       "        </tr>\n",
       "    </tbody>\n",
       "</table>\n",
       "<p>... (1 rows omitted)</p"
      ],
      "text/plain": [
       "Survived | Class | Name                                              | Sex    | Age  | Fare    | Embarked | Family\n",
       "1        | 1     | Longley, Miss. Gretchen Fiske                     | female | 80   | 77.9583 | S        | 0\n",
       "0        | 2     | Harper, Rev. John                                 | male   | 74   | 33      | S        | 1\n",
       "0        | 1     | Artagaveytia, Mr. Ramon                           | male   | 71   | 49.5042 | C        | 0\n",
       "0        | 1     | Goldschmidt, Mr. George B                         | male   | 71   | 34.6542 | C        | 0\n",
       "0        | 3     | Connors, Mr. Patrick                              | male   | 70.5 | 7.75    | Q        | 0\n",
       "1        | 1     | Ryerson, Miss. Susan Parker \"Suzette\"             | female | 70   | 262.375 | C        | 4\n",
       "1        | 1     | Taylor, Mrs. Elmer Zebley (Juliet Cummins Wright) | female | 70   | 52      | S        | 1\n",
       "0        | 2     | Wheadon, Mr. Edward H                             | male   | 66   | 10.5    | S        | 0\n",
       "0        | 1     | Millet, Mr. Francis Davis                         | male   | 65   | 26.55   | S        | 0\n",
       "0        | 3     | Duane, Mr. Frank                                  | male   | 65   | 7.75    | Q        | 0\n",
       "... (1 rows omitted)"
      ]
     },
     "execution_count": 9,
     "metadata": {},
     "output_type": "execute_result"
    }
   ],
   "source": [
    "oldest = titanic.sort('Age', descending=True).take(np.arange(11)) #SOLUTION\n",
    "oldest"
   ]
  },
  {
   "cell_type": "markdown",
   "metadata": {},
   "source": [
    "<a id=\"ex2\"></a>\n",
    "## Part 2\n",
    "\n",
    "#7. Is there an association between the number of family passengers had with them and survival? Assign the name to a survival_w_family table with two columns and two rows: the first column should contain the values '0' and '1', for the passengers' survival, and the second should contain the average number of family aboard the ship for these two groups of passengers. Make a bar chart of this table."
   ]
  },
  {
   "cell_type": "code",
   "execution_count": 10,
   "metadata": {
    "collapsed": false
   },
   "outputs": [
    {
     "data": {
      "text/html": [
       "<table border=\"1\" class=\"dataframe\">\n",
       "    <thead>\n",
       "        <tr>\n",
       "            <th>Survived</th> <th>Family mean</th>\n",
       "        </tr>\n",
       "    </thead>\n",
       "    <tbody>\n",
       "        <tr>\n",
       "            <td>0       </td> <td>0.873832   </td>\n",
       "        </tr>\n",
       "    </tbody>\n",
       "        <tr>\n",
       "            <td>1       </td> <td>1.02888    </td>\n",
       "        </tr>\n",
       "    </tbody>\n",
       "</table>"
      ],
      "text/plain": [
       "Survived | Family mean\n",
       "0        | 0.873832\n",
       "1        | 1.02888"
      ]
     },
     "execution_count": 10,
     "metadata": {},
     "output_type": "execute_result"
    }
   ],
   "source": [
    "survival_w_family = titanic.group('Survived', np.mean).select('Survived','Family mean') #SOLUTION\n",
    "survival_w_family"
   ]
  },
  {
   "cell_type": "markdown",
   "metadata": {},
   "source": [
    "#8. Suppose we want to figure out if passengers of a specific ticket class had a higher chance of survival than passengers of the other ticket classes. To calculate survival rate by class, we first need to find the number of passengers that survived in each class. Construct a two-column table `survivors_by_class` that describes the number of survivors by class."
   ]
  },
  {
   "cell_type": "code",
   "execution_count": 11,
   "metadata": {
    "collapsed": false
   },
   "outputs": [
    {
     "data": {
      "text/html": [
       "<table border=\"1\" class=\"dataframe\">\n",
       "    <thead>\n",
       "        <tr>\n",
       "            <th>Class</th> <th>count</th>\n",
       "        </tr>\n",
       "    </thead>\n",
       "    <tbody>\n",
       "        <tr>\n",
       "            <td>1    </td> <td>112  </td>\n",
       "        </tr>\n",
       "    </tbody>\n",
       "        <tr>\n",
       "            <td>2    </td> <td>80   </td>\n",
       "        </tr>\n",
       "    </tbody>\n",
       "        <tr>\n",
       "            <td>3    </td> <td>85   </td>\n",
       "        </tr>\n",
       "    </tbody>\n",
       "</table>"
      ],
      "text/plain": [
       "Class | count\n",
       "1     | 112\n",
       "2     | 80\n",
       "3     | 85"
      ]
     },
     "execution_count": 11,
     "metadata": {},
     "output_type": "execute_result"
    }
   ],
   "source": [
    "survivors_by_class = titanic.where('Survived', 1).group('Class') #SOLUTION\n",
    "survivors_by_class"
   ]
  },
  {
   "cell_type": "markdown",
   "metadata": {},
   "source": [
    "#9. To calculate survival rate, we also need to find the total number of passengers in each class. Assign `total_by_class` to a two-column table that describes the total number of passengers in each class."
   ]
  },
  {
   "cell_type": "code",
   "execution_count": 12,
   "metadata": {
    "collapsed": false
   },
   "outputs": [
    {
     "data": {
      "text/html": [
       "<table border=\"1\" class=\"dataframe\">\n",
       "    <thead>\n",
       "        <tr>\n",
       "            <th>Class</th> <th>count</th>\n",
       "        </tr>\n",
       "    </thead>\n",
       "    <tbody>\n",
       "        <tr>\n",
       "            <td>1    </td> <td>177  </td>\n",
       "        </tr>\n",
       "    </tbody>\n",
       "        <tr>\n",
       "            <td>2    </td> <td>168  </td>\n",
       "        </tr>\n",
       "    </tbody>\n",
       "        <tr>\n",
       "            <td>3    </td> <td>360  </td>\n",
       "        </tr>\n",
       "    </tbody>\n",
       "</table>"
      ],
      "text/plain": [
       "Class | count\n",
       "1     | 177\n",
       "2     | 168\n",
       "3     | 360"
      ]
     },
     "execution_count": 12,
     "metadata": {},
     "output_type": "execute_result"
    }
   ],
   "source": [
    "total_by_class = titanic.group('Class') #SOLUTION\n",
    "total_by_class"
   ]
  },
  {
   "cell_type": "markdown",
   "metadata": {},
   "source": [
    "#10. Now we can calculate survival rate by class. Use `total_by_class` to construct a two-column table `class_survival_rates` that contains the different classes in a column labeled `Class` and their corresponding survival rates in a column labeled `Survival Rate`.\n",
    "\n",
    "It may be helpful to first calculate the survival rates."
   ]
  },
  {
   "cell_type": "code",
   "execution_count": 13,
   "metadata": {
    "collapsed": false
   },
   "outputs": [
    {
     "data": {
      "text/html": [
       "<table border=\"1\" class=\"dataframe\">\n",
       "    <thead>\n",
       "        <tr>\n",
       "            <th>Class</th> <th>Survival Rate</th>\n",
       "        </tr>\n",
       "    </thead>\n",
       "    <tbody>\n",
       "        <tr>\n",
       "            <td>1    </td> <td>0.632768     </td>\n",
       "        </tr>\n",
       "    </tbody>\n",
       "        <tr>\n",
       "            <td>2    </td> <td>0.47619      </td>\n",
       "        </tr>\n",
       "    </tbody>\n",
       "        <tr>\n",
       "            <td>3    </td> <td>0.236111     </td>\n",
       "        </tr>\n",
       "    </tbody>\n",
       "</table>"
      ],
      "text/plain": [
       "Class | Survival Rate\n",
       "1     | 0.632768\n",
       "2     | 0.47619\n",
       "3     | 0.236111"
      ]
     },
     "execution_count": 13,
     "metadata": {},
     "output_type": "execute_result"
    }
   ],
   "source": [
    "survival_rates = survivors_by_class.column('count') / total_by_class.column('count') #SOLUTION\n",
    "class_survival_rates = total_by_class.drop('count').with_column('Survival Rate', survival_rates)\n",
    "class_survival_rates"
   ]
  },
  {
   "cell_type": "markdown",
   "metadata": {},
   "source": [
    "#11. Suppose that instead of rates, we wanted to see the **number** of survivors and non-survivors by class in the same table. Create a table with three columns and 6 rows, one for each combination of class/survival. *Hint: Table.group can take an array of column labels to group by multiple columns*"
   ]
  },
  {
   "cell_type": "code",
   "execution_count": 14,
   "metadata": {
    "collapsed": false
   },
   "outputs": [
    {
     "data": {
      "text/html": [
       "<table border=\"1\" class=\"dataframe\">\n",
       "    <thead>\n",
       "        <tr>\n",
       "            <th>Class</th> <th>Survived</th> <th>count</th>\n",
       "        </tr>\n",
       "    </thead>\n",
       "    <tbody>\n",
       "        <tr>\n",
       "            <td>1    </td> <td>0       </td> <td>65   </td>\n",
       "        </tr>\n",
       "    </tbody>\n",
       "        <tr>\n",
       "            <td>1    </td> <td>1       </td> <td>112  </td>\n",
       "        </tr>\n",
       "    </tbody>\n",
       "        <tr>\n",
       "            <td>2    </td> <td>0       </td> <td>88   </td>\n",
       "        </tr>\n",
       "    </tbody>\n",
       "        <tr>\n",
       "            <td>2    </td> <td>1       </td> <td>80   </td>\n",
       "        </tr>\n",
       "    </tbody>\n",
       "        <tr>\n",
       "            <td>3    </td> <td>0       </td> <td>275  </td>\n",
       "        </tr>\n",
       "    </tbody>\n",
       "        <tr>\n",
       "            <td>3    </td> <td>1       </td> <td>85   </td>\n",
       "        </tr>\n",
       "    </tbody>\n",
       "</table>"
      ],
      "text/plain": [
       "Class | Survived | count\n",
       "1     | 0        | 65\n",
       "1     | 1        | 112\n",
       "2     | 0        | 88\n",
       "2     | 1        | 80\n",
       "3     | 0        | 275\n",
       "3     | 1        | 85"
      ]
     },
     "execution_count": 14,
     "metadata": {},
     "output_type": "execute_result"
    }
   ],
   "source": [
    "class_vs_survival = titanic.group(['Class', 'Survived']) #SOLUTION\n",
    "class_vs_survival"
   ]
  },
  {
   "cell_type": "markdown",
   "metadata": {},
   "source": [
    "#12. Another way to visualize this data is using the `.pivot` method. Construct a table that represents the number of survivors and non-survivors by class using `.pivot` with the class labels on the horizontal axis."
   ]
  },
  {
   "cell_type": "code",
   "execution_count": 15,
   "metadata": {
    "collapsed": false
   },
   "outputs": [
    {
     "data": {
      "text/html": [
       "<table border=\"1\" class=\"dataframe\">\n",
       "    <thead>\n",
       "        <tr>\n",
       "            <th>Survived</th> <th>1</th> <th>2</th> <th>3</th>\n",
       "        </tr>\n",
       "    </thead>\n",
       "    <tbody>\n",
       "        <tr>\n",
       "            <td>0       </td> <td>65  </td> <td>88  </td> <td>275 </td>\n",
       "        </tr>\n",
       "    </tbody>\n",
       "        <tr>\n",
       "            <td>1       </td> <td>112 </td> <td>80  </td> <td>85  </td>\n",
       "        </tr>\n",
       "    </tbody>\n",
       "</table>"
      ],
      "text/plain": [
       "Survived | 1    | 2    | 3\n",
       "0        | 65   | 88   | 275\n",
       "1        | 112  | 80   | 85"
      ]
     },
     "execution_count": 15,
     "metadata": {},
     "output_type": "execute_result"
    }
   ],
   "source": [
    "class_vs_survival2 = titanic.pivot('Class', 'Survived') #SOLUTION\n",
    "class_vs_survival2"
   ]
  },
  {
   "cell_type": "markdown",
   "metadata": {},
   "source": [
    "#13. LAST QUESTION! We've learned something about class and survival rate. But what about sex? What about class AND sex, together? \n",
    "\n",
    "Let's use pivot again to try to answer these. Create a table that groups by class and sex, with the classes as the column labels. Each cell representing a 'combination' of class/sex should contain the proportion of survivors for each combination of class/sex. (Hint: before, we found the survival rate, or proportion of survivors, by finding the number of survivors and dividing by the total number per group. There's another way to do this by using 'Survived' and one function.)"
   ]
  },
  {
   "cell_type": "code",
   "execution_count": 16,
   "metadata": {
    "collapsed": false
   },
   "outputs": [
    {
     "data": {
      "text/html": [
       "<table border=\"1\" class=\"dataframe\">\n",
       "    <thead>\n",
       "        <tr>\n",
       "            <th>Sex</th> <th>1</th> <th>2</th> <th>3</th>\n",
       "        </tr>\n",
       "    </thead>\n",
       "    <tbody>\n",
       "        <tr>\n",
       "            <td>female</td> <td>0.962025</td> <td>0.916667</td> <td>0.454545</td>\n",
       "        </tr>\n",
       "    </tbody>\n",
       "        <tr>\n",
       "            <td>male  </td> <td>0.367347</td> <td>0.145833</td> <td>0.153257</td>\n",
       "        </tr>\n",
       "    </tbody>\n",
       "</table>"
      ],
      "text/plain": [
       "Sex    | 1        | 2        | 3\n",
       "female | 0.962025 | 0.916667 | 0.454545\n",
       "male   | 0.367347 | 0.145833 | 0.153257"
      ]
     },
     "execution_count": 16,
     "metadata": {},
     "output_type": "execute_result"
    }
   ],
   "source": [
    "class_sex_survival = titanic.pivot('Class','Sex', 'Survived', np.mean) #SOLUTION\n",
    "class_sex_survival "
   ]
  }
 ],
 "metadata": {
  "kernelspec": {
   "display_name": "Python [default]",
   "language": "python",
   "name": "python3"
  },
  "language_info": {
   "codemirror_mode": {
    "name": "ipython",
    "version": 3
   },
   "file_extension": ".py",
   "mimetype": "text/x-python",
   "name": "python",
   "nbconvert_exporter": "python",
   "pygments_lexer": "ipython3",
   "version": "3.5.2"
  }
 },
 "nbformat": 4,
 "nbformat_minor": 2
}
