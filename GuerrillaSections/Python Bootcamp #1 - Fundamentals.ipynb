{
 "cells": [
  {
   "cell_type": "markdown",
   "metadata": {},
   "source": [
    "## Tips and tricks for using Jupyter Notebook\n"
   ]
  },
  {
   "cell_type": "markdown",
   "metadata": {},
   "source": [
    "1. To run a cell, press `<Shift>+<Return>` This will save you a lot of time. This takes you directy to the next cell. If you want to run the next cell just press `<Shift>+<Return>` again. If you want to edit the cell just press `<Enter>` \n",
    "2. Whenever you enter a new session. Don't forget to run all the cells above the cell you want to edit. If you don't do show, you will get a lot of error messages saying that some variable you are trying to use has not been defined. To run all cells above go to Cell>>Run all below\n",
    "3. When you run a cell, two things happen.\n",
    "    \n",
    "        i) Your kernel will be busy (circle on the top right will become black). For as long as the circle is black there is no reason to rerun the cell or run other cells so just be patient.\n",
    "        ii) If your kernel keeps dying that probably means that either you internet connection is failing or you are asking python to perform an unreasonably large amount of computation. In this case review your work carefully.\n",
    "4. If your Kernel dies, then go to Kernel>>Restart and then run all the cells above the cell you are at.\n",
    "5. It is good practice to always save your work as you are going over an assignment. Just do `<Command> + S` to save or go to File>>Save and Checkpoint\n",
    "6. If you want to comment out a particular line/lines of your code simply select the line and press `<Command>+<?>`\n",
    "For more common mistakes and gotcha's take a look at Niraj's <a href=\"https://drive.google.com/a/berkeley.edu/file/d/0B7D7GRdrAwBDQ2J3cGFZYzdjTTQ/view?usp=sharing\">guide</a>"
   ]
  },
  {
   "cell_type": "markdown",
   "metadata": {},
   "source": [
    "Programming in Python\n",
    "=========\n",
    "\n",
    "**Note:** This chapter is very important, especially if you have no previous coding experience. I would suggest trying to familiarize yourself as soon as possible with writing code since this will make your life a lot easier when it comes to homeworks and labs (and even exams). I will include some practice exercises in the end of the notebook for you to practice on your own time.\n",
    "\n",
    "**Note 2:** I will try to take a different stance in talking about python compared to the textbook since just repeating the textbook material won't be of too much help."
   ]
  },
  {
   "cell_type": "markdown",
   "metadata": {},
   "source": [
    "<h2> Table of Contents </h2>\n",
    "\n",
    "* **<a href=\"#basics\">Python Basics</a>**\n",
    "    * <a href=\"#calc\">Simple Calculator</a>\n",
    "    * <a href=\"#bnum\">Beyond numbers</a>\n",
    "    * <a href=\"#data\">Basic Data types</a>\n",
    "    * <a href=\"#basic_exe\">Python Basics Exercises</a>\n",
    "* **<a href=\"#advanced\">Advanced Programming</a>** \n",
    "    * <a href=\"#pacs\">Packages and built-in functions</a>\n",
    "    * <a href=\"#arrays\">Arrays</a>\n",
    "    * <a href=\"#ranges\">Ranges</a>\n",
    "    * <a href=\"#advanced_exe\">Advanced Programming Exercises</a>\n",
    "* **<a href=\"#table\">Tables</a>**\n",
    "    * <a href=\"#table_manip\">Table Manipulation</a>"
   ]
  },
  {
   "cell_type": "markdown",
   "metadata": {},
   "source": [
    "<a id=\"section\"></a>\n",
    "<h2> Python Basics </h2>"
   ]
  },
  {
   "cell_type": "markdown",
   "metadata": {},
   "source": [
    "**Python comments**\n",
    "\n",
    "These are parts of your code that the compiler ignores and which you can add to explain what you are doing\n",
    "\n",
    "For example:"
   ]
  },
  {
   "cell_type": "code",
   "execution_count": null,
   "metadata": {
    "collapsed": true
   },
   "outputs": [],
   "source": [
    "# This is a one line comment"
   ]
  },
  {
   "cell_type": "markdown",
   "metadata": {},
   "source": [
    "<a id=\"calc\"></a>\n",
    "**Simple calculator**"
   ]
  },
  {
   "cell_type": "code",
   "execution_count": null,
   "metadata": {},
   "outputs": [],
   "source": [
    "#In its simplest form, you can think of Python as a fancy calculator\n",
    "#Much like any calculator, you can type in an expression in a cell and press shift+Enter to run the cell\n",
    "#e.g.\n",
    "1+2"
   ]
  },
  {
   "cell_type": "code",
   "execution_count": null,
   "metadata": {},
   "outputs": [],
   "source": [
    "#Note: the notebook displays the value of the last expression in the cell\n",
    "1+2 #You can't see me\n",
    "2+2 #I am the last expression so you can see me"
   ]
  },
  {
   "cell_type": "code",
   "execution_count": null,
   "metadata": {},
   "outputs": [],
   "source": [
    "# Operations in Python\n",
    "# Addition\n",
    "1+2 "
   ]
  },
  {
   "cell_type": "code",
   "execution_count": null,
   "metadata": {},
   "outputs": [],
   "source": [
    "# Subtraction\n",
    "2-1"
   ]
  },
  {
   "cell_type": "code",
   "execution_count": null,
   "metadata": {},
   "outputs": [],
   "source": [
    "# Multiplication\n",
    "2*3"
   ]
  },
  {
   "cell_type": "code",
   "execution_count": null,
   "metadata": {},
   "outputs": [],
   "source": [
    "# Division\n",
    "1/2"
   ]
  },
  {
   "cell_type": "code",
   "execution_count": null,
   "metadata": {},
   "outputs": [],
   "source": [
    "# Exponentiation\n",
    "2**3 # base**exponent, 2 raised to the 3rd power"
   ]
  },
  {
   "cell_type": "code",
   "execution_count": null,
   "metadata": {},
   "outputs": [],
   "source": [
    "# Remainder\n",
    "5%2 # Use the % sign to express the remainder of the Euclidean division between 5 and 2"
   ]
  },
  {
   "cell_type": "code",
   "execution_count": null,
   "metadata": {},
   "outputs": [],
   "source": [
    "# Order of operations: These are some rules that dictate which operation happens first\n",
    "# This is no different than what you learned in highschool algebra\n",
    "1 + 2**2 / 2 * 5 # First, exponentiation takes place, then division and multiplication and finally addition and subtraction"
   ]
  },
  {
   "cell_type": "code",
   "execution_count": null,
   "metadata": {},
   "outputs": [],
   "source": [
    "# If we want to give priority to some subexpressions, we use ()\n",
    "(1+2**2)/(2*5) #Everything inside parentheses will be evaluated first and then we follow the rules of the order of operations"
   ]
  },
  {
   "cell_type": "markdown",
   "metadata": {},
   "source": [
    "<a id=\"bnum\"></a>\n",
    "**Beyond numbers**"
   ]
  },
  {
   "cell_type": "markdown",
   "metadata": {},
   "source": [
    "* **_Names and Assignment Statements_**"
   ]
  },
  {
   "cell_type": "markdown",
   "metadata": {},
   "source": [
    "In Python, we use assignment statements to bind a value to a name: this \"saves\" or \"stores\" the value in the name, and we can then use the name as a variable. Each name can only be bound to one value!\n",
    "Try to keep your names simple and as indicative of the variable content as possible."
   ]
  },
  {
   "cell_type": "code",
   "execution_count": null,
   "metadata": {},
   "outputs": [],
   "source": [
    "number1 = 1 #assign the value 1 to the name number1\n",
    "number2 = 2\n",
    "result = number1 + number2\n",
    "result"
   ]
  },
  {
   "cell_type": "markdown",
   "metadata": {},
   "source": [
    "* **_Call Expressions_**"
   ]
  },
  {
   "cell_type": "markdown",
   "metadata": {},
   "source": [
    "We 'call' functions on a value or values to perform an action on the value(s), which are called argument(s). Python contains several built-in functions, such as abs (absolute value function) and max (finds the maximum value of the arguments). You can find a list of built-in functions here: https://docs.python.org/3/library/functions.html"
   ]
  },
  {
   "cell_type": "code",
   "execution_count": null,
   "metadata": {},
   "outputs": [],
   "source": [
    "#max function\n",
    "max(1,2,3) #passes the arguments 1, 2, and 3 into the function max and calls it"
   ]
  },
  {
   "cell_type": "markdown",
   "metadata": {},
   "source": [
    "<a id=\"data\"></a>\n",
    "* **_ Basic Data types_**"
   ]
  },
  {
   "cell_type": "markdown",
   "metadata": {},
   "source": [
    "|       Type       |                     Example                    | Description                                                                                                                                                                                                                                                                                                               |\n",
    "|:----------------:|:----------------------------------------------:|---------------------------------------------------------------------------------------------------------------------------------------------------------------------------------------------------------------------------------------------------------------------------------------------------------------------------|\n",
    "| Integer (`int`)  |                   `age = 19`                   | In Python, we refer to integers as whole numbers. You can think of those as every number without a decimal place. Remember though that 5.0 is NOT an integer but 5 is.                                                                                                                                                    |\n",
    "| Float (`float`)  | `macs_per_student = 1.0` OR `one_half = 0.5`   | Float numbers are numbers with decimals. You can use them in operations just like integers. As we saw above, the result of an operation between integers can give you a float number. The division operator always returns a float.                                                                                                                                      |\n",
    "|  String (`str`)  | `student_name = 'Tom'` OR `student_name=\"Tom\"` | Strings are a data type meant to denote regular text. There are two ways to denote a string; either with a single quote ' or with double quotes \" as in the example. Beware that in general, you cannot use the same operations we used on integers on strings (although there are some exceptions we will discuss later) |\n",
    "| Boolean (`bool`) | `1 > 2` OR `True`                              | Booleans are a special data type which is the result of a logical operation. You can think of them as the answer to a true or false question. A variable can either have a value of `True` or `False`, or a logical expression that evaluates into one of those.                                                          |"
   ]
  },
  {
   "cell_type": "markdown",
   "metadata": {},
   "source": [
    "**Integers and Floating Point Numbers:**"
   ]
  },
  {
   "cell_type": "code",
   "execution_count": null,
   "metadata": {},
   "outputs": [],
   "source": [
    "int1 = 10\n",
    "int2 = 2\n",
    "a_float = int1/int2 #Division always returns a float, even if the dividend and divisor are both integers\n",
    "a_float"
   ]
  },
  {
   "cell_type": "code",
   "execution_count": null,
   "metadata": {},
   "outputs": [],
   "source": [
    "#Floats will automatically convert to scientific notation when appropriate, but integers won't. \n",
    "#Also, floats only remember the first 16 decimal places: note that an_int has more digits than sci_notation\n",
    "sci_notation = 2.0**100\n",
    "an_int = 2**100\n",
    "print(\"Float: \", sci_notation)\n",
    "print(\"Int: \", an_int)"
   ]
  },
  {
   "cell_type": "code",
   "execution_count": null,
   "metadata": {},
   "outputs": [],
   "source": [
    "#Watch out for roundoff error with floats\n",
    "not_two = (2**0.5)*(2**0.5) #Normally, we expect 2, but...\n",
    "not_two"
   ]
  },
  {
   "cell_type": "markdown",
   "metadata": {},
   "source": [
    "**Strings**"
   ]
  },
  {
   "cell_type": "code",
   "execution_count": null,
   "metadata": {},
   "outputs": [],
   "source": [
    "#An example of a string\n",
    "name = \"Vasilis\" # same as name ='Vasilis'\n",
    "name"
   ]
  },
  {
   "cell_type": "code",
   "execution_count": null,
   "metadata": {},
   "outputs": [],
   "source": [
    "#Concatenating two strings into one using the + operator\n",
    "greeting = \"Hello \" + name + \"! It is nice to meet you.\"\n",
    "greeting"
   ]
  },
  {
   "cell_type": "code",
   "execution_count": null,
   "metadata": {},
   "outputs": [],
   "source": [
    "#Make sure to add spaces when you need them\n",
    "stuck = 'stuck'\n",
    "together = 'together'\n",
    "stuck + together"
   ]
  },
  {
   "cell_type": "code",
   "execution_count": null,
   "metadata": {},
   "outputs": [],
   "source": [
    "#Concatenation only works on strings! \n",
    "#The following print statement causes an error:\n",
    "age = 19\n",
    "print(\"I am \" + age + \" years old.\") #Age is an integer, not a string"
   ]
  },
  {
   "cell_type": "code",
   "execution_count": null,
   "metadata": {
    "collapsed": true
   },
   "outputs": [],
   "source": [
    "#However, you can convert between types! \n",
    "\n",
    "#The int and float functions converts numbers to integers and floating point numbers, respectively\n",
    "twelve = int(12.9) #int rounds down for floats\n",
    "twelve_point_0 = float(12)\n",
    "twelve, twelve_point_0"
   ]
  },
  {
   "cell_type": "code",
   "execution_count": null,
   "metadata": {
    "collapsed": true
   },
   "outputs": [],
   "source": [
    "#The str function converts values to strings\n",
    "str_3 = str(3)\n",
    "str3_type = type(str_3) #the type function returns the data type of the value\n",
    "str3_type"
   ]
  },
  {
   "cell_type": "code",
   "execution_count": null,
   "metadata": {
    "collapsed": true
   },
   "outputs": [],
   "source": [
    "#Now we can concatenate what we wanted earlier\n",
    "age = 19\n",
    "print(\"I am \" + str(age) + \" years old.\")"
   ]
  },
  {
   "cell_type": "markdown",
   "metadata": {},
   "source": [
    "**Booleans**"
   ]
  },
  {
   "cell_type": "code",
   "execution_count": null,
   "metadata": {
    "collapsed": true
   },
   "outputs": [],
   "source": [
    "# Booleans usually arise when we use what we call logical operators\n",
    "# The most important ones are ==, !=, >, <, >= and <=\n",
    "test1 = (1 >= 1) #greater than or equal\n",
    "print(test1)\n",
    "test2 = (2 == 2) #equal\n",
    "print(test2)\n",
    "test3 = (3 < 2) # smaller than\n",
    "print(test3)"
   ]
  },
  {
   "cell_type": "code",
   "execution_count": null,
   "metadata": {
    "collapsed": true
   },
   "outputs": [],
   "source": [
    "#You can also assign a boolean to be True or False\n",
    "true = True\n",
    "false = False\n",
    "true==false"
   ]
  },
  {
   "cell_type": "code",
   "execution_count": null,
   "metadata": {
    "collapsed": true
   },
   "outputs": [],
   "source": [
    "# Bonus Booleans\n",
    "#You can also compare strings using operators like ==, < or > just as with numbers (alphabetical order)\n",
    "print(\"cat\" < \"dog\") # True\n",
    "print(\"Cat\"<\"at\") # Capital letters take priority over lowercase ones True\n",
    "print(\"kitty\"<\"kite\") # False"
   ]
  },
  {
   "cell_type": "markdown",
   "metadata": {},
   "source": [
    "<a id=\"basic_exe\"></a>\n",
    "** Python Basics Exercices**"
   ]
  },
  {
   "cell_type": "markdown",
   "metadata": {},
   "source": [
    "1) What is the output when you run the following lines of code? What is assigned to the name 'lilo'? Write your answer in the cell below.\n",
    "\n",
    "lilo = \"stitch\" \n",
    "\n",
    "print(lilo)\n",
    "\n",
    "lilo = \"Lilo\"\n",
    "\n",
    "stitch"
   ]
  },
  {
   "cell_type": "markdown",
   "metadata": {},
   "source": [
    "[YOUR ANSWER HERE]"
   ]
  },
  {
   "cell_type": "markdown",
   "metadata": {},
   "source": [
    "2) My brother is X years old where X is selected at random from a list of ages. Given X, calculate the number of years it will take for him to turn 100 years old."
   ]
  },
  {
   "cell_type": "code",
   "execution_count": null,
   "metadata": {
    "collapsed": true
   },
   "outputs": [],
   "source": [
    "import numpy as np # Numpy is an important package that we'll be using in class - more on packages in a bit\n",
    "age = np.random.choice(np.arange(1,20)) #This randomly selects a number between 1 and 19 \n",
    "years =  ... \n",
    "print(\"My brother is \" + ... + \" years old.\")\n",
    "print(\"He will turn 100 in \" + ... + \" years.\") #Replace the ...'s with your answer"
   ]
  },
  {
   "cell_type": "markdown",
   "metadata": {},
   "source": [
    "3) In the context of Euclidean Division, we have the dividend, the divisor, the quotient and the remainder (look them up if you don't remember what they are). If I give you the dividend and divisor, can you give me the quotient and remainder? Print your results. Your output should look like this:\n",
    "\n",
    "Dividend: X\n",
    "\n",
    "Divisor: Y\n",
    "\n",
    "Quotient: Z\n",
    "\n",
    "Remainder: A\n",
    "\n",
    "*Hint 1: You may wanna take a look at what the function `int()` does when you call it with a float number. E.g. `int(1/3)`"
   ]
  },
  {
   "cell_type": "code",
   "execution_count": null,
   "metadata": {
    "collapsed": true
   },
   "outputs": [],
   "source": [
    "# Randomly select a pair of divident and divisor\n",
    "dividend = np.random.choice(np.arange(1, 100)) \n",
    "divisor = np.random.choice(np.arange(1, 6))\n",
    "quotient = ...\n",
    "remainder = ... #fill in these two lines\n",
    "print(...)\n",
    "..."
   ]
  },
  {
   "cell_type": "markdown",
   "metadata": {},
   "source": [
    "4) Find if a number is odd or even. Here, we will have to you an if statement. I encourage you to look up how the if statement is used. Replace the `<condition>` with a boolean expression (eg `1==2` or `1>2` etc)"
   ]
  },
  {
   "cell_type": "code",
   "execution_count": null,
   "metadata": {
    "collapsed": true
   },
   "outputs": [],
   "source": [
    "number = np.random.choice(np.arange(1,1000))\n",
    "if <condition>:\n",
    "    print(str(number) + \" is odd.\")\n",
    "else:\n",
    "    print(str(number) + \" is even.\")"
   ]
  },
  {
   "cell_type": "markdown",
   "metadata": {},
   "source": [
    "5) Given the expression, add the necessary parentheses to get the desired results. When you are done all the print statement should be True."
   ]
  },
  {
   "cell_type": "code",
   "execution_count": null,
   "metadata": {
    "collapsed": true
   },
   "outputs": [],
   "source": [
    "#example\n",
    "print(1+2/3==1)\n",
    "#Should be changed to\n",
    "print((1+2)/3==1)"
   ]
  },
  {
   "cell_type": "code",
   "execution_count": null,
   "metadata": {
    "collapsed": true
   },
   "outputs": [],
   "source": [
    "print(1+2/3+4-5*6+7+8+9/10 == -10)"
   ]
  },
  {
   "cell_type": "markdown",
   "metadata": {
    "collapsed": true
   },
   "source": [
    "6) Replace each '...' with a correct logical operator such that each Boolean expression evaluates to True. "
   ]
  },
  {
   "cell_type": "code",
   "execution_count": null,
   "metadata": {
    "collapsed": true
   },
   "outputs": [],
   "source": [
    "print(1.0 ... 1)\n",
    "print(2 ... 3) \n",
    "print(2 ... 3) #write a different operator than the one above!\n",
    "print(2 ... 3) #write a different operator again!\n",
    "print(\"John\" ... \"David\")\n",
    "print(\"John\" ... \"david\")"
   ]
  },
  {
   "cell_type": "markdown",
   "metadata": {},
   "source": [
    "7) What happens when you run this line of code?\n",
    "\n",
    "\"2\" > 2"
   ]
  },
  {
   "cell_type": "markdown",
   "metadata": {},
   "source": [
    "[YOUR ANSWER HERE]"
   ]
  },
  {
   "cell_type": "markdown",
   "metadata": {},
   "source": [
    "<a id=\"advanced\"></a>\n",
    "<h2> Advanced Programming</h2>"
   ]
  },
  {
   "cell_type": "markdown",
   "metadata": {},
   "source": [
    "<a id=\"pacs\"></a>\n",
    "**Packages and built-in functions**\n",
    "\n",
    "_Built-in Functions_\n",
    "\n",
    "A `function` in programming is a procedure that takes in some input (usually refered to as argument) and returns some result from processing whatever that input was. In Python and other programming languages, there are two kinds of functions; those that already exist and are preloaded in the language (built-in funtions) and the ones the user can has written by himself (user-defined functions). We will take a look at some useful built-in functions and later on in the course we will learn to write our own. \n",
    "\n",
    "_Packages_\n",
    "\n",
    "From now on we will be working quite a bit with what we will refer to as packages. The `datascience` or the `numpy` packages are just two examples of packages that you will be using extensively in this class. You can think of those as collections of `functions`, collections of code that given some input, allow you to automatically perform some operation. In the beginning of every notebook you will typically find a cell consisting of code that looks like this\n",
    "\n",
    "`import numpy as np`\n",
    "\n",
    "`from datascience import *`\n",
    "\n",
    "`import matplotlib.pyplot as plt`\n",
    "\n",
    "`import math`\n",
    "\n",
    "Although you don't really need to know how these statements work, it is good to have an understanding of why they are there. We talked about built-in functions and briefly mentioned user-defined functions, however there are also functions that other people wrote and which are made available through packages such as numpy, math or others. In order to use those, we have to refer to them not just by their name but also by their package. So you can use a package function with `<package_name>.<function_name>` after you do `import <package_name>` or, alternativey you can directly import that function from the package and refer to it by its name. For example, I can do `from <package_name> import <function_name>` and then call the function directly with `<function_name>`."
   ]
  },
  {
   "cell_type": "code",
   "execution_count": null,
   "metadata": {
    "collapsed": true
   },
   "outputs": [],
   "source": [
    "#Built-in functions\n",
    "#These are examples of some built-in functions that you could find yourself using in the class\n",
    "\n",
    "#abs\n",
    "abs1 = abs(-6) #take the absolute value of a number (float or integer)\n",
    "abs2 = abs(1.329)\n",
    "abs1, abs2"
   ]
  },
  {
   "cell_type": "code",
   "execution_count": null,
   "metadata": {
    "collapsed": true
   },
   "outputs": [],
   "source": [
    "#round\n",
    "#The round function is used to round float numbers. It takes two arguments (input variables).\n",
    "#The first one is the number we want to round and the second is the number of decimals we want to keep after we round\n",
    "# e.g round(<some float>, 3) round the float to a 3 decimal place float\n",
    "round_to_integer = round(1.987) # same as round(1.987, 0)\n",
    "round_to_first_decimal = round(1.8633, 1)\n",
    "round_to_second_decimal = round(1.9873737363, 3)\n",
    "round_to_integer, round_to_first_decimal, round_to_second_decimal"
   ]
  },
  {
   "cell_type": "code",
   "execution_count": null,
   "metadata": {
    "collapsed": true
   },
   "outputs": [],
   "source": [
    "#int vs round\n",
    "#The function int() is only keeps the integer part of a float number. It should not be confused with the round function!\n",
    "# Note the difference\n",
    "print(int(1.65))\n",
    "print(round(1.65))"
   ]
  },
  {
   "cell_type": "code",
   "execution_count": null,
   "metadata": {
    "collapsed": true
   },
   "outputs": [],
   "source": [
    "#abs\n",
    "#The function abs() takes the absolute value of a number\n",
    "print(abs(-2))\n",
    "print(abs(2.0))"
   ]
  },
  {
   "cell_type": "code",
   "execution_count": null,
   "metadata": {
    "collapsed": true
   },
   "outputs": [],
   "source": [
    "# max and min\n",
    "max_of_2 = max(1,2)\n",
    "max_of_3 = max(1,2,3)\n",
    "min_of_2 = min(1,2)\n",
    "min_of_3 = min(1,2,3)\n",
    "\n",
    "max_of_2, max_of_3, min_of_2, min_of_3"
   ]
  },
  {
   "cell_type": "markdown",
   "metadata": {},
   "source": [
    "As you can imagine this is not an exhaustive list of all the built-in functions in Python but these are good for now. We will learn about others later."
   ]
  },
  {
   "cell_type": "code",
   "execution_count": null,
   "metadata": {
    "collapsed": true
   },
   "outputs": [],
   "source": [
    "#importing functions from packages\n",
    "#Let's use some functions from the math package\n",
    "import math\n",
    "\n",
    "math.log(1)"
   ]
  },
  {
   "cell_type": "code",
   "execution_count": null,
   "metadata": {
    "collapsed": true
   },
   "outputs": [],
   "source": [
    "#An equivalent way of writing the above would be \n",
    "from math import log\n",
    "\n",
    "log(1)"
   ]
  },
  {
   "cell_type": "markdown",
   "metadata": {},
   "source": [
    "<a id=\"arrays\"></a>\n",
    "**Arrays**\n",
    "\n",
    "Although there are more types of sequences like lists and tuples, the only sequence we will be using in this class is the numpy array. We refer to it as the numpy array because it is the sequence that is used by that package. To create an array, use the function make_array. For example `my_array = make_array(1,2,3)`. Now let's explore the properties of arrays."
   ]
  },
  {
   "cell_type": "code",
   "execution_count": null,
   "metadata": {
    "collapsed": true
   },
   "outputs": [],
   "source": [
    "from datascience import * #Run this cell!"
   ]
  },
  {
   "cell_type": "code",
   "execution_count": null,
   "metadata": {
    "collapsed": true
   },
   "outputs": [],
   "source": [
    "my_array = make_array(1,2,3) #This is how I make an array with elements 1,2 and 3. They don't have to be integers.\n",
    "names = make_array('Tom', 'Tonny', 'Trevor') #An array of strings\n",
    "my_array, names"
   ]
  },
  {
   "cell_type": "code",
   "execution_count": null,
   "metadata": {
    "collapsed": true
   },
   "outputs": [],
   "source": [
    "#The reason we use arrays over other types of sequences is that they make it really easy to perform operations on them\n",
    "#P.S. You can also think (and use) numpy arrays like vectors in linear algebra.\n",
    "array1 = make_array(1,2,3)\n",
    "array2 = make_array(3,2,1)\n",
    "twos = make_array(2,2,2)\n",
    "#In fact we can add arrays! \n",
    "#This is element-wise addition: each element in array1 is added to the corresponding element of array2\n",
    "array1+array2"
   ]
  },
  {
   "cell_type": "code",
   "execution_count": null,
   "metadata": {
    "collapsed": true
   },
   "outputs": [],
   "source": [
    "# Subtracting arrays (element-wise subtraction)\n",
    "array1-array2"
   ]
  },
  {
   "cell_type": "code",
   "execution_count": null,
   "metadata": {
    "collapsed": true
   },
   "outputs": [],
   "source": [
    "#Multiplying arrays (element-wise multiplication)\n",
    "array1*array2"
   ]
  },
  {
   "cell_type": "code",
   "execution_count": null,
   "metadata": {
    "collapsed": true
   },
   "outputs": [],
   "source": [
    "# Or even raise one array to the power of another!\n",
    "array1**twos # Note that each element is raised to the second power! (The message dytpe = ... tells us the type of the values.)"
   ]
  },
  {
   "cell_type": "code",
   "execution_count": null,
   "metadata": {
    "collapsed": true
   },
   "outputs": [],
   "source": [
    "# Compare all elements in an array with a number - returns an array of booleans\n",
    "print(array1==1) #Asks the question to each element: Are you equal to 1\n",
    "print(array1<3) # Asks the question to each element: Are you less than 3"
   ]
  },
  {
   "cell_type": "code",
   "execution_count": null,
   "metadata": {
    "collapsed": true
   },
   "outputs": [],
   "source": [
    "#We can also do operations between arrays and numbers for example:\n",
    "result1 = array1+1 #Adds 1 to every element in the array\n",
    "result2 = array1*2 #Multiplies every element in the array by 2\n",
    "result1, result2"
   ]
  },
  {
   "cell_type": "code",
   "execution_count": null,
   "metadata": {
    "collapsed": true
   },
   "outputs": [],
   "source": [
    "#Array indexing - A way of selecting an element from an array\n",
    "a = make_array(4,2,1,6,3)\n",
    "\n",
    "#How do I extract the first element from array a?\n",
    "first_element = a.item(0)\n",
    "second_element = a.item(1)\n",
    "print(a)\n",
    "print(\"First element is: \" + str(first_element))\n",
    "print(\"Second element is: \" + str(second_element))\n",
    "\n",
    "#The reason we use .item(0) for the first element and not .item(1) is simply a Python convention.\n",
    "#We say that Python is a 0-indexed language. Other languages have their first element in position 1."
   ]
  },
  {
   "cell_type": "markdown",
   "metadata": {},
   "source": [
    "Operating on numpy arrays:\n",
    "Numpy contains many functions which we can use on arrays. Here are some of them along with some examples."
   ]
  },
  {
   "cell_type": "code",
   "execution_count": null,
   "metadata": {
    "collapsed": true
   },
   "outputs": [],
   "source": [
    "# Run this cell! It imports the numpy package.\n",
    "import numpy as np # The 'as np' allows us to call np.<function_name> instead of numpy.<function_name> "
   ]
  },
  {
   "cell_type": "code",
   "execution_count": null,
   "metadata": {
    "collapsed": true
   },
   "outputs": [],
   "source": [
    "#np.sum - Sums all elements in an array.\n",
    "ar = make_array(1,2,3,4)\n",
    "total = np.sum(ar) # 1+2+3+4\n",
    "total"
   ]
  },
  {
   "cell_type": "code",
   "execution_count": null,
   "metadata": {
    "collapsed": true
   },
   "outputs": [],
   "source": [
    "#np.prod - Takes the product of all elements in an array.\n",
    "ar = make_array(1,2,3,4)\n",
    "total = np.prod(ar) # 1*2*3*4\n",
    "total"
   ]
  },
  {
   "cell_type": "code",
   "execution_count": null,
   "metadata": {
    "collapsed": true
   },
   "outputs": [],
   "source": [
    "#np.mean - Takes the mean (average) of all the elements in an array\n",
    "scores = make_array(97, 85, 73, 90, 88) #Midterm scores corresponding to a section\n",
    "section_average = np.mean(scores)\n",
    "section_average"
   ]
  },
  {
   "cell_type": "code",
   "execution_count": null,
   "metadata": {
    "collapsed": true
   },
   "outputs": [],
   "source": [
    "#np.diff - Returns an array of the differences between back to back elements in an array\n",
    "violent_crimes = make_array(4, 8, 11, 5, 7, 3, 1, 0, 10, 13, 6, 9) # number of violent crimes per month in the city of Berkeley\n",
    "monthly_change = np.diff(violent_crimes) # make_array(8-4, 11-8, 5-11, ...)\n",
    "monthly_change #monthly_change is the change in the number of crimes in consecutive months"
   ]
  },
  {
   "cell_type": "code",
   "execution_count": null,
   "metadata": {
    "collapsed": true
   },
   "outputs": [],
   "source": [
    "#np.sort - Takes in an array and returns an array with the original array's values sorted from least to greatest.\n",
    "out_of_order = make_array(3,4,20,0)\n",
    "in_order = np.sort(out_of_order)\n",
    "in_order"
   ]
  },
  {
   "cell_type": "code",
   "execution_count": null,
   "metadata": {
    "collapsed": true
   },
   "outputs": [],
   "source": [
    "#np.count_nonzero - To be used with an array of booleans as input. Counts the number of True values in the array\n",
    "dummy_array = make_array(1,4,2,5,3,4,5,8,2,6)\n",
    "\n",
    "#find how many values in this array are less than 5\n",
    "less_than_five = dummy_array < 5 \n",
    "print(less_than_five)\n",
    "n_less_than_5 = np.count_nonzero(less_than_five)\n",
    "print(\"Number of items in the array that are less than 5 is: \" + str(n_less_than_5))"
   ]
  },
  {
   "cell_type": "markdown",
   "metadata": {},
   "source": [
    "For more numpy functions check out the course textbook <a href=\"https://www.inferentialthinking.com/chapters/04/4/arrays.html\">here</a>."
   ]
  },
  {
   "cell_type": "markdown",
   "metadata": {},
   "source": [
    "<a id=\"ranges\"></a>\n",
    "**Ranges**\n",
    "\n",
    "_Textbook definition:_ A range is an array of numbers in increasing or decreasing order, each separated by a regular interval. \n",
    "\n",
    "To construct a range, we use numpy's `np.arange` function.\n",
    "\n",
    "The structure for the the expression is `np.arange(<start>, <end>, <step>)`. (When the step is 1 we can omit the step and use `np.arange(<start>, <end>)`)\n",
    "\n",
    "Example: `np.arange(1, 11)` (same as `np.arange(1, 11, 1)`) gives an array of numbers 1 through 10 in order\n",
    "(1,2,3,4,5,6,7,8,9,10)\n",
    "\n",
    "start: The first element of the range.\n",
    "\n",
    "end: The ending boundary of the range. **Important:** end is **NOT** included in the range. \n",
    "\n",
    "step: By how much you want your range to increase.\n",
    "\n",
    "**Note: ** You can also omit the start and step and only provide the end and just write something like `np.arange(5)` which will assume that you have set start=0, step=1 and end=5 "
   ]
  },
  {
   "cell_type": "code",
   "execution_count": null,
   "metadata": {
    "collapsed": true
   },
   "outputs": [],
   "source": [
    "#make an array of all the numbers from 0 to 100\n",
    "zero_to_100 = np.arange(101) # or zero_to_100 = np.arange(0,101) or zero_to_100 = np.arange(0,101, 1)\n",
    "zero_to_100 #note that the argument is 101, but the number 101 is not included in the range"
   ]
  },
  {
   "cell_type": "code",
   "execution_count": null,
   "metadata": {
    "collapsed": true
   },
   "outputs": [],
   "source": [
    "#make an array with all the multiples of 2 between 0 and 100 inclusive\n",
    "even_0_to_100 = np.arange(0, 101, 2)\n",
    "even_0_to_100"
   ]
  },
  {
   "cell_type": "code",
   "execution_count": null,
   "metadata": {
    "collapsed": true
   },
   "outputs": [],
   "source": [
    "#make an array that goes 5, 4, 3, 2, 1\n",
    "step_down = np.arange(5, 0, -1) #the step is -1\n",
    "step_down"
   ]
  },
  {
   "cell_type": "markdown",
   "metadata": {},
   "source": [
    "<a id=\"advanced_exe\"></a>\n",
    "**Advanced Programming Exercises**"
   ]
  },
  {
   "cell_type": "markdown",
   "metadata": {},
   "source": [
    "1) Without using the built-in function max, find the maximum of 3 numbers a , b, c. Your output should be the same should be the same as the output of max(a,b,c). Do not use max.\n",
    "\n",
    "**Hint: ** You could do that by using if statements but an easier way would be to look at the built-in functions for arrays."
   ]
  },
  {
   "cell_type": "code",
   "execution_count": null,
   "metadata": {
    "collapsed": true
   },
   "outputs": [],
   "source": [
    "a = int(input(\"a\")) #The following three lines allow you to input values for a, b, and c!\n",
    "b = int(input(\"b\"))\n",
    "c = int(input(\"c\"))\n",
    "maximum = ... #replace this with your answer\n",
    "maximum"
   ]
  },
  {
   "cell_type": "markdown",
   "metadata": {},
   "source": [
    "2) According to the Oakland Police Department End of Year Report (found <a href=\"http://www2.oaklandnet.com/oakca1/groups/police/documents/webcontent/oak062295.pdf\">here</a>) the historical total number of crimes per year in Oakland is the following.\n",
    "\n",
    "| 2012   | 2013   | 2014   | 2015   | 2016   |\n",
    "|--------|--------|--------|--------|--------|\n",
    "| 33,685 | 33,965 | 31,612 | 31,470 | 29,919 |\n",
    "\n",
    "Without directly typing in a number, find how many years saw more crime than 2012."
   ]
  },
  {
   "cell_type": "code",
   "execution_count": null,
   "metadata": {
    "collapsed": true
   },
   "outputs": [],
   "source": [
    "total_crimes_by_year =  make_array(33685, 33965, 31612, 31470, 29919)\n",
    "num_years = ...\n",
    "num_years"
   ]
  },
  {
   "cell_type": "markdown",
   "metadata": {},
   "source": [
    "3) Find all years of Presidential Elections in the United States between 1788 and 2016. How many years does this span?"
   ]
  },
  {
   "cell_type": "code",
   "execution_count": null,
   "metadata": {
    "collapsed": true
   },
   "outputs": [],
   "source": [
    "pres_elections = ...\n",
    "yearspan = ...\n",
    "pres_elections, yearspan"
   ]
  },
  {
   "cell_type": "markdown",
   "metadata": {},
   "source": [
    "4) The formula for compund interest is A = $$P(1 + r/n)^{(n*t)}$$ where P is the starting amount, r is the interest rate (as a decimal), n is the number of compoundings per year, and t is the time passed in years.\n",
    "\n",
    "Let P = 1000, r = 0.05, and n = 2. Make an array that represents A over 10 years."
   ]
  },
  {
   "cell_type": "code",
   "execution_count": null,
   "metadata": {
    "collapsed": true
   },
   "outputs": [],
   "source": [
    "time_passed = make_array(1,2,3,4,5,6,7,8,9,10)\n",
    "amount_of_money_per_year = ...\n",
    "amount_of_money_per_year"
   ]
  },
  {
   "cell_type": "markdown",
   "metadata": {},
   "source": [
    "5) You find a store that keeps discounting their items by a certain percentage each day for 10 days. How much will this $1000 item cost on each of the 10 days?"
   ]
  },
  {
   "cell_type": "code",
   "execution_count": null,
   "metadata": {
    "collapsed": true
   },
   "outputs": [],
   "source": [
    "discounts = make_array(5, 10, 4, 8, 6, 4, 9, 20, 4, 12) #Percentage of discount each day\n",
    "\n",
    "# Hint: First make the array of discounts into an array that represents the discounts as a decimal. \n",
    "# Then find what proportion of the total price each discount represents (i.e. a 5% discount means it \n",
    "# represents 95% of the total price of the product). Then you can calculate the price of the item each day\n",
    "\n",
    "discounts_as_decimals = ...\n",
    "discounts_as_proportion_of_total_price = ...\n",
    "price_by_day = ...\n",
    "price_by_day"
   ]
  },
  {
   "cell_type": "markdown",
   "metadata": {},
   "source": [
    "6) You're at a grocery store. Apples are 1 dollar each, oranges are 2 each, and watermelons are 6 each. You decide you want to buy 3 apples, 5 oranges, and 28 watermelons. Without doing any arithmetic, find the total cost of your fruit purchase.  "
   ]
  },
  {
   "cell_type": "code",
   "execution_count": null,
   "metadata": {
    "collapsed": true
   },
   "outputs": [],
   "source": [
    "prices = ...\n",
    "amounts = ...\n",
    "total = ...\n",
    "total"
   ]
  },
  {
   "cell_type": "markdown",
   "metadata": {},
   "source": [
    "If you are done with the exercises and you are looking for more of a challenge, take a look at this <a href=\"http://www.practicepython.org/\">page</a> for some more advanced exercises. (A lot of the material you don't have to know for this class)"
   ]
  },
  {
   "cell_type": "markdown",
   "metadata": {},
   "source": [
    "<a id=\"table\"></a>\n",
    "# Tables"
   ]
  },
  {
   "cell_type": "markdown",
   "metadata": {},
   "source": [
    "Tables are an important tool in data science that allow individuals to visualize certain types of data. In order to create them, there is a beautiful tool in the datascience module called Table(). Here it is below!"
   ]
  },
  {
   "cell_type": "code",
   "execution_count": null,
   "metadata": {},
   "outputs": [],
   "source": [
    "Table()"
   ]
  },
  {
   "cell_type": "markdown",
   "metadata": {},
   "source": [
    "Calling this function will return an empty table. This empty table is a useful starting point for this class because it can be extended to contain rows and columns. Let's try that now!\n",
    "\n",
    "Let's begin with a table that represents the wonderful instructors of Data 8. Suppose we want a table with one column, labeled \"Instructors\", containing the entries \"John\" and \"David\"."
   ]
  },
  {
   "cell_type": "code",
   "execution_count": null,
   "metadata": {},
   "outputs": [],
   "source": [
    "array_of_instructors = make_array('John', 'David') #with_column can take an array as an argument\n",
    "\n",
    "table_of_instructors = Table().with_column('Instructors', array_of_instructors)\n",
    "table_of_instructors"
   ]
  },
  {
   "cell_type": "markdown",
   "metadata": {},
   "source": [
    "Notice the syntax when adding columns. Remember that if you want more tha one entry in in the column, you will need to put an array as the values to the table. \n",
    "\n",
    "However, a table with only one column is of little use to us as data scientists. Luckily, we can add additional columns to tables we've already created, as well as build tables with multiple columns with our original command."
   ]
  },
  {
   "cell_type": "code",
   "execution_count": null,
   "metadata": {},
   "outputs": [],
   "source": [
    "height = ('Very Tall', 'Not as tall', )\n",
    "table_of_instructors.with_column('Height', height)"
   ]
  },
  {
   "cell_type": "code",
   "execution_count": null,
   "metadata": {},
   "outputs": [],
   "source": [
    "table2 = Table().with_columns('Instructors', array_of_instructors, \n",
    "                              'Height', height)\n",
    "table2"
   ]
  },
  {
   "cell_type": "markdown",
   "metadata": {},
   "source": [
    "<a id=\"table_manip\"></a>\n",
    "**Table Manipulation**"
   ]
  },
  {
   "cell_type": "markdown",
   "metadata": {},
   "source": [
    "Suppose we have a table of names of individuals, their favorite color, their favorite number, and favorite subject! I will manually construct the table below, so you can just ignore the following cell."
   ]
  },
  {
   "cell_type": "code",
   "execution_count": null,
   "metadata": {},
   "outputs": [],
   "source": [
    "name = make_array('Henry', 'Mark', 'Michael', 'Sarah', 'Michelle', 'Chelsea', 'Alyssa', 'Kevin', 'Anna')\n",
    "color = make_array('red', 'blue', 'green', 'orange', 'red', 'purple', 'blue', 'orange', 'blue')\n",
    "number = make_array(18, 3, 8, 12, 19, 13, 15, 65, 2017)\n",
    "subject = make_array('data science', 'data science','data science','data science','data science','data science','data science','data science','data science')\n",
    "table = Table().with_columns('Name', name,\n",
    "                          'Favorite Color', color,\n",
    "                          'Favorite Number', number,\n",
    "                          'Favorite Subject', subject)\n",
    "table"
   ]
  },
  {
   "cell_type": "markdown",
   "metadata": {},
   "source": [
    "Suppose we decide it is useless to maintain the \"Favorite Subject\" as a column because it is common knowledge that data science is the best subject ever. We can delete the column by simply selecting all the columns that aren't the last column."
   ]
  },
  {
   "cell_type": "code",
   "execution_count": null,
   "metadata": {},
   "outputs": [],
   "source": [
    "table1 = table.select(0,1,2) #Remember that indices in Python start at 0!\n",
    "table1"
   ]
  },
  {
   "cell_type": "markdown",
   "metadata": {},
   "source": [
    "Now, suppose we wanted to filter this table only for entries where the individuals favorite color is blue. Luckily, the built in where function does this for us!"
   ]
  },
  {
   "cell_type": "code",
   "execution_count": null,
   "metadata": {},
   "outputs": [],
   "source": [
    "table1.where('Favorite Color', 'blue')"
   ]
  },
  {
   "cell_type": "markdown",
   "metadata": {},
   "source": [
    "Moreover, suppose we wanted to find name of the individual with the single largest favorite number. We can do this by first sorting the table by the values of the favorite number, and then selecting the column with their names, and selecting the first item in the column."
   ]
  },
  {
   "cell_type": "code",
   "execution_count": null,
   "metadata": {},
   "outputs": [],
   "source": [
    "name_of_largest = table.sort('Favorite Number', descending = True).column('Name').item(0)\n",
    "name_of_largest"
   ]
  },
  {
   "cell_type": "markdown",
   "metadata": {},
   "source": [
    "Remember that when we call .column, we get returned an array. This is important because we can now perform array arithmetic on column values! \n",
    "\n",
    "Suppose we wanted to find an interesting statistic. What is the sum, average, and minimum of all the individuals favorite numbers?"
   ]
  },
  {
   "cell_type": "code",
   "execution_count": null,
   "metadata": {},
   "outputs": [],
   "source": [
    "average = np.average(table.column('Favorite Number'))\n",
    "summation = sum(table.column('Favorite Number'))\n",
    "minimum = min(table.column('Favorite Number'))\n",
    "\n",
    "average, summation, minimum"
   ]
  },
  {
   "cell_type": "markdown",
   "metadata": {},
   "source": [
    "# Table Practice Problems"
   ]
  },
  {
   "cell_type": "markdown",
   "metadata": {},
   "source": [
    "UC Berkeley recently performed a survey of 10 students asking for their height. We have provided a list the students in an array named students, along with their height in an array called height. Build a table height with a column \"Name\" displaying their name and a column \"Height\" displaying their height..\n",
    "\n",
    "We have provided an array of their names as well as heights."
   ]
  },
  {
   "cell_type": "code",
   "execution_count": null,
   "metadata": {},
   "outputs": [],
   "source": [
    "students = make_array('Henry', 'Mark', 'Michael', 'Sarah', 'Michelle', 'Chelsea', 'Alyssa', 'Mark', 'Anna', 'Devin')\n",
    "heights = make_array(60, 70, 68, 65, 73, 70, 58, 72, 64, 75)\n",
    "survey = Table().with_columns('Name', students,\n",
    "                           'Height', heights)\n",
    "survey"
   ]
  },
  {
   "cell_type": "markdown",
   "metadata": {},
   "source": [
    "1) For kicks, write a line of code that outputs a table containing only the names of the students."
   ]
  },
  {
   "cell_type": "code",
   "execution_count": null,
   "metadata": {
    "collapsed": true
   },
   "outputs": [],
   "source": [
    "names = ...\n",
    "names"
   ]
  },
  {
   "cell_type": "markdown",
   "metadata": {},
   "source": [
    "2) Let's see what we can find about the data set! Suppose we are interested in who is the tallest individual out of the 10 interviewed students. Write code that outputs the tallest individual in the table."
   ]
  },
  {
   "cell_type": "code",
   "execution_count": null,
   "metadata": {
    "collapsed": true
   },
   "outputs": [],
   "source": [
    "tallest = ... #Write code in order to find this! Tables will soon become too big to manually inspect.\n",
    "tallest"
   ]
  },
  {
   "cell_type": "markdown",
   "metadata": {},
   "source": [
    "3) While finding outliers (max, min) in the data is important, another question that often comes up in statistical analysis is the average. Use your knowledge of tables and arrays to assign average to the value of the average height of the students."
   ]
  },
  {
   "cell_type": "code",
   "execution_count": null,
   "metadata": {
    "collapsed": true
   },
   "outputs": [],
   "source": [
    "average = ...\n",
    "average"
   ]
  },
  {
   "cell_type": "markdown",
   "metadata": {},
   "source": [
    "4) Another important statistic to look for is the standard deviation. You will learn more about the process of searching for standard deviation and its properties down the line, but for now, assign the name sd to the standard deviation of all the scores."
   ]
  },
  {
   "cell_type": "code",
   "execution_count": null,
   "metadata": {
    "collapsed": true
   },
   "outputs": [],
   "source": [
    "sd = ...\n",
    "sd"
   ]
  },
  {
   "cell_type": "markdown",
   "metadata": {},
   "source": [
    "5) Devin gets ahold of the data, and wonders how his height matches up to the height of his fellow students. He is a pretty tall person, so he suspects that his height will be above the average. Help him! Assign the name devin to be the number of inches that devin is taller than the average."
   ]
  },
  {
   "cell_type": "code",
   "execution_count": null,
   "metadata": {
    "collapsed": true
   },
   "outputs": [],
   "source": [
    "devin = ...\n",
    "devin"
   ]
  },
  {
   "cell_type": "markdown",
   "metadata": {},
   "source": [
    "6) Finally, an instructor looks at the data and decides that they believe having the name Mark will make a person grow taller. Find the difference in the _average of height's of individuals named Mark_ and the _average of the height of the rest of the individuals_. Assign this to the name mark_difference."
   ]
  },
  {
   "cell_type": "code",
   "execution_count": null,
   "metadata": {},
   "outputs": [],
   "source": [
    "mark_difference = ...\n",
    "mark_difference"
   ]
  },
  {
   "cell_type": "markdown",
   "metadata": {},
   "source": [
    "7) Can one conclude that having the name Mark will cause a person to grow taller? Why or why not?"
   ]
  },
  {
   "cell_type": "markdown",
   "metadata": {},
   "source": [
    "(Fill in answer here)"
   ]
  },
  {
   "cell_type": "markdown",
   "metadata": {},
   "source": [
    "(Notebook developed by Vasilis Oikonomou with Adnan Hemani, Niraj Rao and Erik Cheng in Spring 2017\n",
    "\n",
    "Revised by Claire Zhang and Howard Ki in Fall 2017)"
   ]
  }
 ],
 "metadata": {
  "anaconda-cloud": {},
  "kernelspec": {
   "display_name": "Python 3",
   "language": "python",
   "name": "python3"
  },
  "language_info": {
   "codemirror_mode": {
    "name": "ipython",
    "version": 3
   },
   "file_extension": ".py",
   "mimetype": "text/x-python",
   "name": "python",
   "nbconvert_exporter": "python",
   "pygments_lexer": "ipython3",
   "version": "3.6.1"
  }
 },
 "nbformat": 4,
 "nbformat_minor": 1
}
