{
 "cells": [
  {
   "cell_type": "code",
   "execution_count": null,
   "metadata": {
    "collapsed": true
   },
   "outputs": [],
   "source": [
    "import matplotlib\n",
    "#matplotlib.use('Agg')\n",
    "from datascience import *\n",
    "%matplotlib inline\n",
    "import matplotlib.pyplot as plt\n",
    "from mpl_toolkits.mplot3d import Axes3D\n",
    "import numpy as np\n",
    "import math\n",
    "import scipy.stats as stats\n",
    "plt.style.use('fivethirtyeight')"
   ]
  },
  {
   "cell_type": "markdown",
   "metadata": {},
   "source": [
    "# Classifiying Iris colors\n",
    "\n",
    "We'll be classifying iris (the colored part of the eye) based on features of the iris sepal and petal. (We don't know what these are exactly either - feel free to do your own research!)\n",
    "\n",
    "## Don't forget to _run_ all code cells!"
   ]
  },
  {
   "cell_type": "code",
   "execution_count": null,
   "metadata": {
    "scrolled": true
   },
   "outputs": [],
   "source": [
    "iris = Table.read_table('iris.csv')\n",
    "color_table = Table().with_columns(\n",
    "    'species', make_array('setosa','versicolor','virginica'),\n",
    "    'Color', make_array('darkblue', 'gold', 'lightblue')\n",
    ")\n",
    "\n",
    "iris = iris.join('species', color_table).drop(6,7)\n",
    "\n",
    "# add color labels for graphing purposes\n",
    "blue = iris.where('species', are.equal_to('setosa'))\n",
    "gold = iris.where('species', are.equal_to('versicolor'))\n",
    "\n",
    "iris = blue.append(gold)\n",
    "iris.show(10)"
   ]
  },
  {
   "cell_type": "markdown",
   "metadata": {},
   "source": [
    "#### Question 1 \n",
    "\n",
    "List all the features and classes on the table above (you might use code to help you find all classes, but you can also just look through the rows and columns)."
   ]
  },
  {
   "cell_type": "markdown",
   "metadata": {},
   "source": [
    "*Write your answer here, replacing this text.*"
   ]
  },
  {
   "cell_type": "markdown",
   "metadata": {},
   "source": [
    "### Here we've plotted two scatter plots of the sepal and petal features for each species. Note that either of these sets of features will likely make for a good classifier, since there are clear decision boundaries on each plot."
   ]
  },
  {
   "cell_type": "code",
   "execution_count": null,
   "metadata": {},
   "outputs": [],
   "source": [
    "iris.scatter('sepal_length','sepal_width',colors ='species')"
   ]
  },
  {
   "cell_type": "code",
   "execution_count": null,
   "metadata": {},
   "outputs": [],
   "source": [
    "iris.scatter('petal_length','petal_width',colors ='species')"
   ]
  },
  {
   "cell_type": "markdown",
   "metadata": {},
   "source": [
    "#### Question 2\n",
    "\n",
    "Now we have a unknown iris with sepal_length = 5.1 and  sepal_width= 4.2. Can you classify it? Also, what about an unknown iris with petal_length = 3 and  petal_width=0.75 ?"
   ]
  },
  {
   "cell_type": "markdown",
   "metadata": {},
   "source": [
    "*Write your answer here, replacing this text.*"
   ]
  },
  {
   "cell_type": "markdown",
   "metadata": {},
   "source": [
    "### Let's examine the distances between the species attributes.\n",
    "To do this, we will use the distance formula, and drop the columns with the iris labels from the table. Recall that setosa irises are at the top of the table and versicolor are at the bottom. \n",
    "\n",
    "We must drop the columns containing strings in order to compute numerical distances."
   ]
  },
  {
   "cell_type": "code",
   "execution_count": null,
   "metadata": {
    "scrolled": true
   },
   "outputs": [],
   "source": [
    "attributes = iris.drop('Color')\n",
    "# For converting iris to binary\n",
    "\n",
    "def is_one(x):\n",
    "    if x == 'setosa':\n",
    "        return 1\n",
    "    else:\n",
    "        return 0\n",
    "\n",
    "# we drop the sepal_length and sepal_width columns\n",
    "# try going through the classification process again using all 4 features, or the other two!\n",
    "attributes = attributes.with_column('Class', iris.apply(is_one, 0)).drop('species').drop(\"sepal_length\", \"sepal_width\")\n",
    "attributes.show()\n"
   ]
  },
  {
   "cell_type": "code",
   "execution_count": null,
   "metadata": {
    "collapsed": true
   },
   "outputs": [],
   "source": [
    "# the distance formula - no different than what you probably learned in middle school\n",
    "def distance(point1, point2):\n",
    "    \"\"\"Returns the distance between point1 and point2\n",
    "    where each argument is an array \n",
    "    consisting of the coordinates of the point\"\"\"\n",
    "    return np.sqrt(np.sum((point1 - point2)**2))"
   ]
  },
  {
   "cell_type": "code",
   "execution_count": null,
   "metadata": {
    "scrolled": true
   },
   "outputs": [],
   "source": [
    "# same species\n",
    "distance(np.array(attributes.row(0)), np.array(attributes.row(1)))"
   ]
  },
  {
   "cell_type": "code",
   "execution_count": null,
   "metadata": {
    "scrolled": true
   },
   "outputs": [],
   "source": [
    "# different species\n",
    "distance(np.array(attributes.row(0)), np.array(attributes.row(90)))"
   ]
  },
  {
   "cell_type": "markdown",
   "metadata": {},
   "source": [
    "Notice that the distance between a setosa row and a veriscolor row is much higher than that between two setosa rows."
   ]
  },
  {
   "cell_type": "markdown",
   "metadata": {},
   "source": [
    "## Implementing the Classifier\n",
    "\n",
    "Take a look at the function implementations below. They will be similar to what you will use in Project 3, so make sure you understand the implementations!\n",
    "\n",
    "There are no new table manipulations here."
   ]
  },
  {
   "cell_type": "code",
   "execution_count": null,
   "metadata": {
    "collapsed": true
   },
   "outputs": [],
   "source": [
    "def all_distances(training, new_point):\n",
    "    \"\"\"Returns an array of distances\n",
    "    between each point in the training set\n",
    "    and the new point (which is a row of attributes)\"\"\"\n",
    "    feats = training.drop('Class')\n",
    "    def distance_from_point(row):\n",
    "        # uses distance formula, this makes it work on rows of a table\n",
    "        return distance(np.array(new_point), np.array(row))\n",
    "    return feats.apply(distance_from_point)\n",
    "\n",
    "def table_with_distances(training, new_point):\n",
    "    # called by closest, calls all_distances\n",
    "    \"\"\"Augments the training table \n",
    "    with a column of distances from new_point\"\"\"\n",
    "    return training.with_column('Distance', all_distances(training, new_point))\n",
    "\n",
    "def closest(training, new_point, k):\n",
    "    \"\"\"Returns a table of the k rows of the augmented table\n",
    "    corresponding to the k smallest distances\"\"\"\n",
    "    # called by classify, calls table_with_distances\n",
    "    with_dists = table_with_distances(training, new_point)\n",
    "    sorted_by_distance = with_dists.sort('Distance')\n",
    "    topk = sorted_by_distance.take(np.arange(k))\n",
    "    return topk\n",
    "\n",
    "def majority(topkclasses):\n",
    "    \"\"\" Input: a table, with columns like the attributes table\n",
    "    Returns whether the majority of rows are setosa or versicolor irises\n",
    "    \"\"\"\n",
    "    ones = topkclasses.where('Class', are.equal_to(1)).num_rows\n",
    "    zeros = topkclasses.where('Class', are.equal_to(0)).num_rows\n",
    "    if ones > zeros:\n",
    "        return 1\n",
    "    else:\n",
    "        return 0\n",
    "\n",
    "def classify(training, new_point, k):\n",
    "    \"\"\"The actual classification function that\n",
    "    returns a classifications based upon the majority of the neighbors\"\"\"\n",
    "    \n",
    "    # calls closest\n",
    "    closestk = closest(training, new_point, k)\n",
    "    topkclasses = closestk.select('Class')\n",
    "    return majority(topkclasses)"
   ]
  },
  {
   "cell_type": "markdown",
   "metadata": {},
   "source": [
    "Let's play around with these functions a little."
   ]
  },
  {
   "cell_type": "markdown",
   "metadata": {},
   "source": [
    "To see how this works, we'll can find the five nearest neighbors of the first iris in our data. Since this iris is part of the dataset, it is its own nearest neighbor. So we should expect to see it at the top of the list, followed by four others."
   ]
  },
  {
   "cell_type": "code",
   "execution_count": null,
   "metadata": {
    "scrolled": false
   },
   "outputs": [],
   "source": [
    "# run this cell\n",
    "eyeball = attributes.drop('species').drop('Color').drop('Class').row(0)\n",
    "eyeball"
   ]
  },
  {
   "cell_type": "code",
   "execution_count": null,
   "metadata": {},
   "outputs": [],
   "source": [
    "# note that we are using the attribute table, rahter that iris, and that the closest points are also 1's\n",
    "# recall that 1 = setosa\n",
    "closest(attributes, eyeball, 5)"
   ]
  },
  {
   "cell_type": "markdown",
   "metadata": {},
   "source": [
    "### Use the train-test split code we wrote in the worksheet to split the `iris` table into a training and test set."
   ]
  },
  {
   "cell_type": "code",
   "execution_count": null,
   "metadata": {
    "collapsed": true
   },
   "outputs": [],
   "source": [
    "shuffled_data = attributes.sample(with_replacement=False) #randomly shuffle\n",
    "training_size_proportion = .2\n",
    "dataset_size = iris.num_rows\n",
    "x = int(np.round(training_size_proportion * dataset_size))   # don't worry about the int(np.round) part!\n",
    "training_set = shuffled_data.take(np.arange(x))\n",
    "testing_set = shuffled_data.take(np.arange(x,dataset_size))"
   ]
  },
  {
   "cell_type": "code",
   "execution_count": null,
   "metadata": {
    "scrolled": true
   },
   "outputs": [],
   "source": [
    "# note shuffling of classes\n",
    "training_set"
   ]
  },
  {
   "cell_type": "markdown",
   "metadata": {},
   "source": [
    "## Running the Classifier"
   ]
  },
  {
   "cell_type": "markdown",
   "metadata": {},
   "source": [
    "We want to verify the accuracy of our classifier, so we define a series of functions that will look at where two arrays are the same and will tell us how many predictions we got correct. \n",
    "\n",
    "`count_zero` and `count_equal` work together to show the number of instances in 2 arrays where they have the same corresponding elements. If `array1` and `array2` have the same element at index 0, then `(array1 - array2).item(0)` will be 0. \n",
    "This is how we check if our classifier predicted correctly. "
   ]
  },
  {
   "cell_type": "code",
   "execution_count": null,
   "metadata": {
    "collapsed": true
   },
   "outputs": [],
   "source": [
    "def count_zero(array):\n",
    "    \"\"\"Counts the number of 0's in an array\"\"\"\n",
    "    return len(array) - np.count_nonzero(array)\n",
    "\n",
    "def count_equal(array1, array2):\n",
    "    \"\"\"Takes two numerical arrays of equal length\n",
    "    and counts the indices where the two are equal\"\"\"\n",
    "    return count_zero(array1 - array2)\n",
    "\n",
    "def evaluate_accuracy(training, test, k):\n",
    "    \"\"\"runs the testing set's labels against\n",
    "    a classifier trained on testing data. \n",
    "    This takes in unseen data and outputs a\n",
    "    proportion of correct predictions\"\"\"\n",
    "    test_attributes = test.drop('Class') #dataset with labels removed\n",
    "    def classify_testrow(row):\n",
    "        \"\"\"Classifies the testing data using the classify function\"\"\"\n",
    "        return classify(training, row, k)\n",
    "    c = test_attributes.apply(classify_testrow)\n",
    "    return count_equal(c, test.column('Class')) / test.num_rows"
   ]
  },
  {
   "cell_type": "code",
   "execution_count": null,
   "metadata": {},
   "outputs": [],
   "source": [
    "evaluate_accuracy(training_set, testing_set, 5)"
   ]
  },
  {
   "cell_type": "markdown",
   "metadata": {
    "collapsed": true
   },
   "source": [
    "WoW! Looks like our classifier was really accurate. Why is this?"
   ]
  },
  {
   "cell_type": "markdown",
   "metadata": {},
   "source": [
    "*Write your answer here, replacing this text.*"
   ]
  },
  {
   "cell_type": "markdown",
   "metadata": {},
   "source": [
    "Remember that we only used `petal_length` and `petal_width` in this classifier. Try running it again using all 4 featurs or just the `sepal_length` and `sepal_width`.\n",
    "\n",
    "*Hint*: to do this, you only need to change 1 line of code in the setup of the `attributes` table."
   ]
  },
  {
   "cell_type": "code",
   "execution_count": null,
   "metadata": {
    "collapsed": true
   },
   "outputs": [],
   "source": []
  }
 ],
 "metadata": {
  "kernelspec": {
   "display_name": "Python 3",
   "language": "python",
   "name": "python3"
  },
  "language_info": {
   "codemirror_mode": {
    "name": "ipython",
    "version": 3
   },
   "file_extension": ".py",
   "mimetype": "text/x-python",
   "name": "python",
   "nbconvert_exporter": "python",
   "pygments_lexer": "ipython3",
   "version": "3.5.4"
  }
 },
 "nbformat": 4,
 "nbformat_minor": 2
}
